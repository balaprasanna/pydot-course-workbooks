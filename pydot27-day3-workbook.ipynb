{
 "cells": [
  {
   "cell_type": "markdown",
   "metadata": {},
   "source": [
    "## Agenda for Day3\n",
    "\n",
    "\n",
    "- Sol for Workshop 1\n",
    "---\n",
    "- Packages / Modules\n",
    "----\n",
    "- FILE I/O\n",
    "    - read , write text files\n",
    "    - read , write csv files\n",
    "    - read , write json files (Tomorrow)\n",
    "    \n",
    "- CPU_MEM_METRICS_Collection workshop (Workshop02)\n",
    "\n",
    "\n"
   ]
  },
  {
   "cell_type": "code",
   "execution_count": null,
   "metadata": {},
   "outputs": [],
   "source": []
  },
  {
   "cell_type": "markdown",
   "metadata": {},
   "source": [
    "## Packages\n",
    "- How does it looks like\n",
    "- How to install and where its stored\n",
    "- How to find packages... \n",
    "- Read docs  http://pypi.org\n",
    "---\n",
    "- How to use a package\n",
    "    - Debug Package info from `help`\n",
    "    - importing something from a package\n",
    "    - from package import something\n",
    "    - import package"
   ]
  },
  {
   "cell_type": "code",
   "execution_count": 251,
   "metadata": {},
   "outputs": [],
   "source": [
    "# What can be inside the package..\n",
    "    # subpackage - package - PACKAGE CONTENT\n",
    "    # class\n",
    "    # func\n",
    "    # DATA\n",
    "\n",
    "#     <Package>\n",
    "#     - files..\n",
    "#         - functions\n",
    "#         - Classes\n",
    "#         - DATA = variables \n",
    "#         - subpackage"
   ]
  },
  {
   "cell_type": "markdown",
   "metadata": {},
   "source": [
    "## How to install a package"
   ]
  },
  {
   "cell_type": "code",
   "execution_count": 220,
   "metadata": {},
   "outputs": [],
   "source": [
    "#pip install <package name>\n",
    "#pip install fuzzywuzzy\n",
    "\n",
    "#pip install <package name>==version\n",
    "#pip install fuzzywuzzy=0.16.0"
   ]
  },
  {
   "cell_type": "markdown",
   "metadata": {},
   "source": [
    "## Built in package"
   ]
  },
  {
   "cell_type": "code",
   "execution_count": 12,
   "metadata": {},
   "outputs": [],
   "source": [
    "import math\n",
    "# help(math)\n",
    "# functions , data"
   ]
  },
  {
   "cell_type": "code",
   "execution_count": 14,
   "metadata": {},
   "outputs": [
    {
     "data": {
      "text/plain": [
       "3.141592653589793"
      ]
     },
     "execution_count": 14,
     "metadata": {},
     "output_type": "execute_result"
    }
   ],
   "source": [
    "math.pi"
   ]
  },
  {
   "cell_type": "code",
   "execution_count": 15,
   "metadata": {},
   "outputs": [
    {
     "data": {
      "text/plain": [
       "100.0"
      ]
     },
     "execution_count": 15,
     "metadata": {},
     "output_type": "execute_result"
    }
   ],
   "source": [
    "math.pow(10,2)"
   ]
  },
  {
   "cell_type": "code",
   "execution_count": 18,
   "metadata": {},
   "outputs": [
    {
     "data": {
      "text/plain": [
       "100.0"
      ]
     },
     "execution_count": 18,
     "metadata": {},
     "output_type": "execute_result"
    }
   ],
   "source": [
    "pow = 100\n",
    "\n",
    "from math import pow as POWER\n",
    "POWER(10,2)"
   ]
  },
  {
   "cell_type": "markdown",
   "metadata": {},
   "source": [
    "## Conventions with popular packages `as`"
   ]
  },
  {
   "cell_type": "code",
   "execution_count": null,
   "metadata": {},
   "outputs": [],
   "source": [
    "import numpy as np\n",
    "import panads as pd\n",
    "# import matplotlib.pyplot as plt"
   ]
  },
  {
   "cell_type": "code",
   "execution_count": 21,
   "metadata": {},
   "outputs": [],
   "source": [
    "# import matplotlib.pyplot\n",
    "# help(matplotlib.pyplot)"
   ]
  },
  {
   "cell_type": "markdown",
   "metadata": {},
   "source": [
    "## Exploring some random package"
   ]
  },
  {
   "cell_type": "code",
   "execution_count": 9,
   "metadata": {},
   "outputs": [
    {
     "data": {
      "text/plain": [
       "97"
      ]
     },
     "execution_count": 9,
     "metadata": {},
     "output_type": "execute_result"
    }
   ],
   "source": [
    "from fuzzywuzzy import fuzz\n",
    "fuzz.ratio(\"this is a test\", \"this is a test!\")"
   ]
  },
  {
   "cell_type": "code",
   "execution_count": 30,
   "metadata": {},
   "outputs": [],
   "source": [
    "# import fuzzywuzzy.fuzz\n",
    "# fuzzywuzzy.fuzz.ratio(\"helloworld\", \"helloworld!\")"
   ]
  },
  {
   "cell_type": "markdown",
   "metadata": {},
   "source": [
    "## Exploring some random package"
   ]
  },
  {
   "cell_type": "code",
   "execution_count": 34,
   "metadata": {},
   "outputs": [],
   "source": [
    "import textdistance"
   ]
  },
  {
   "cell_type": "code",
   "execution_count": 224,
   "metadata": {},
   "outputs": [],
   "source": [
    "# help(textdistance)"
   ]
  },
  {
   "cell_type": "code",
   "execution_count": 38,
   "metadata": {
    "scrolled": true
   },
   "outputs": [
    {
     "name": "stdout",
     "output_type": "stream",
     "text": [
      "<class 'textdistance.algorithms.edit_based.Hamming'>\n"
     ]
    }
   ],
   "source": [
    "print(type(textdistance.hamming))"
   ]
  },
  {
   "cell_type": "code",
   "execution_count": 43,
   "metadata": {},
   "outputs": [
    {
     "data": {
      "text/plain": [
       "18"
      ]
     },
     "execution_count": 43,
     "metadata": {},
     "output_type": "execute_result"
    }
   ],
   "source": [
    "textdistance.hamming(\"helloworld\", \"daskjdasdbasdkjasd\")"
   ]
  },
  {
   "cell_type": "markdown",
   "metadata": {},
   "source": [
    "### How to import stuff from package"
   ]
  },
  {
   "cell_type": "code",
   "execution_count": 44,
   "metadata": {},
   "outputs": [],
   "source": [
    "# import package\n",
    "# import package as new_name\n",
    "\n",
    "# from package import something\n",
    "# from package import something as new_name\n"
   ]
  },
  {
   "cell_type": "markdown",
   "metadata": {},
   "source": [
    "## Quiz 1"
   ]
  },
  {
   "cell_type": "code",
   "execution_count": 47,
   "metadata": {},
   "outputs": [
    {
     "data": {
      "text/plain": [
       "'C:\\\\Users\\\\balap\\\\Desktop\\\\teaching\\\\pydot27\\\\Workbooks'"
      ]
     },
     "execution_count": 47,
     "metadata": {},
     "output_type": "execute_result"
    }
   ],
   "source": [
    "pwd"
   ]
  },
  {
   "cell_type": "code",
   "execution_count": 226,
   "metadata": {},
   "outputs": [],
   "source": [
    "\"\"\"\n",
    "url = \"https://img.webmd.com/dtmcms/live/webmd/consumer_assets/site_images/article_thumbnails/reference_guide/outdoor_cat_risks_ref_guide/1800x1200_outdoor_cat_risks_ref_guide.jpg\"\n",
    "\n",
    "# download this picture and save it into current directory\n",
    "\n",
    "\"\"\"\n",
    "\n",
    "# 1. explore & installing a package\n",
    "# 2. try importing that package & reading help info on that package\n",
    "# 3. reading the package documentation / sample usage / google\n"
   ]
  },
  {
   "cell_type": "markdown",
   "metadata": {},
   "source": [
    "## Solution"
   ]
  },
  {
   "cell_type": "markdown",
   "metadata": {},
   "source": [
    "## Tried using `wget`"
   ]
  },
  {
   "cell_type": "code",
   "execution_count": 71,
   "metadata": {},
   "outputs": [
    {
     "name": "stdout",
     "output_type": "stream",
     "text": [
      "\r",
      "  0% [                                                                            ]      0 / 140391\r",
      "  5% [....                                                                        ]   8192 / 140391\r",
      " 11% [........                                                                    ]  16384 / 140391\r",
      " 17% [.............                                                               ]  24576 / 140391\r",
      " 23% [.................                                                           ]  32768 / 140391\r",
      " 29% [......................                                                      ]  40960 / 140391\r",
      " 35% [..........................                                                  ]  49152 / 140391\r",
      " 40% [...............................                                             ]  57344 / 140391\r",
      " 46% [...................................                                         ]  65536 / 140391\r",
      " 52% [.......................................                                     ]  73728 / 140391\r",
      " 58% [............................................                                ]  81920 / 140391\r",
      " 64% [................................................                            ]  90112 / 140391\r",
      " 70% [.....................................................                       ]  98304 / 140391\r",
      " 75% [.........................................................                   ] 106496 / 140391\r",
      " 81% [..............................................................              ] 114688 / 140391\r",
      " 87% [..................................................................          ] 122880 / 140391\r",
      " 93% [......................................................................      ] 131072 / 140391\r",
      " 99% [........................................................................... ] 139264 / 140391\r",
      "100% [............................................................................] 140391 / 140391"
     ]
    },
    {
     "data": {
      "text/plain": [
       "'mypicture.jpg'"
      ]
     },
     "execution_count": 71,
     "metadata": {},
     "output_type": "execute_result"
    }
   ],
   "source": [
    "# url = \"https://img.webmd.com/dtmcms/live/webmd/consumer_assets/site_images/article_thumbnails/reference_guide/outdoor_cat_risks_ref_guide/1800x1200_outdoor_cat_risks_ref_guide.jpg\"\n",
    "# url = \"https://cdn.pixabay.com/photo/2019/11/08/11/56/cat-4611189__340.jpg\"\n",
    "url = \"https://devblogs.nvidia.com/wp-content/uploads/2016/07/cute.jpg\"\n",
    "\n",
    "import wget\n",
    "# help(wget)\n",
    "wget.download(url, out=\"mypicture.jpg\")"
   ]
  },
  {
   "cell_type": "markdown",
   "metadata": {},
   "source": [
    "## Tried using `urllib.request`"
   ]
  },
  {
   "cell_type": "code",
   "execution_count": 70,
   "metadata": {},
   "outputs": [
    {
     "data": {
      "text/plain": [
       "('C:\\\\Users\\\\balap\\\\AppData\\\\Local\\\\Temp\\\\tmppmxf3op4',\n",
       " <http.client.HTTPMessage at 0x2654e3b15c0>)"
      ]
     },
     "execution_count": 70,
     "metadata": {},
     "output_type": "execute_result"
    }
   ],
   "source": [
    "from  urllib import request\n",
    "url = \"https://devblogs.nvidia.com/wp-content/uploads/2016/07/cute.jpg\"\n",
    "request.urlretrieve(url)"
   ]
  },
  {
   "cell_type": "markdown",
   "metadata": {},
   "source": [
    "## Finally This works..."
   ]
  },
  {
   "cell_type": "code",
   "execution_count": 221,
   "metadata": {},
   "outputs": [],
   "source": [
    "from balautil import downloadutil as D\n",
    "D.download(url, fname=\"cat.jpg\")"
   ]
  },
  {
   "cell_type": "markdown",
   "metadata": {},
   "source": [
    "## FILE I/O"
   ]
  },
  {
   "cell_type": "markdown",
   "metadata": {},
   "source": [
    "- File Path\n",
    "    - absolute, relative path\n",
    "    - `r` string\n",
    "- New lines \"\\n\" and concept of consuming files\n",
    "- File Opening Modes\n",
    "    - `r` read\n",
    "    - `w` write\n",
    "    - `a` append\n",
    "- File open -> close (best practise)\n",
    "\n",
    "- Methods to read and write files\n",
    "    - read()\n",
    "    - readline()\n",
    "    - readlines()\n",
    "    \n",
    "    - write()\n",
    "    - writelines()"
   ]
  },
  {
   "cell_type": "code",
   "execution_count": 85,
   "metadata": {},
   "outputs": [],
   "source": [
    "# fname = \"hello.txt\"\n",
    "# fullpath = r\"C:\\Users\\balap\\Desktop\\hello.txt\"\n",
    "# fullpath = \"C:\\\\Users\\\\balap\\\\Desktop\\\\hello.txt\"\n",
    "# fullpath = \"C:/Users/balap/Desktop/hello.txt\"\n",
    "# f\"hello {123}\"\n",
    "# r\"avoid \\n slashes... in windows...\""
   ]
  },
  {
   "cell_type": "markdown",
   "metadata": {},
   "source": [
    "## Use `pathlib` to check if the file exisit"
   ]
  },
  {
   "cell_type": "code",
   "execution_count": 227,
   "metadata": {},
   "outputs": [
    {
     "data": {
      "text/plain": [
       "True"
      ]
     },
     "execution_count": 227,
     "metadata": {},
     "output_type": "execute_result"
    }
   ],
   "source": [
    "from pathlib import Path\n",
    "filepath = Path(r\"C:\\Users\\balap\\Desktop\\hello.txt\")\n",
    "filepath.exists()"
   ]
  },
  {
   "cell_type": "markdown",
   "metadata": {},
   "source": [
    "## Open a file and read its content"
   ]
  },
  {
   "cell_type": "code",
   "execution_count": 110,
   "metadata": {
    "scrolled": true
   },
   "outputs": [
    {
     "name": "stdout",
     "output_type": "stream",
     "text": [
      "hello world\n",
      "你好，世界\n",
      "hai\n",
      "hello\n",
      "world\n"
     ]
    }
   ],
   "source": [
    "# open the file in `r` mode\n",
    "f = open(filepath, mode=\"r\", encoding=\"utf-8\")\n",
    "\n",
    "# read the contents of the file\n",
    "content = f.read()\n",
    "print(content)\n",
    "\n",
    "# close the file\n",
    "f.close()"
   ]
  },
  {
   "cell_type": "markdown",
   "metadata": {},
   "source": [
    "## Loop through each line. and print the following..\n",
    "\n",
    "- line:1, content\n",
    "- line:2, content"
   ]
  },
  {
   "cell_type": "code",
   "execution_count": 113,
   "metadata": {},
   "outputs": [
    {
     "data": {
      "text/plain": [
       "['line1', 'line2']"
      ]
     },
     "execution_count": 113,
     "metadata": {},
     "output_type": "execute_result"
    }
   ],
   "source": [
    "c = \"\"\"line1\n",
    "line2\n",
    "\"\"\"\n",
    "\n",
    "c.splitlines()"
   ]
  },
  {
   "cell_type": "code",
   "execution_count": 132,
   "metadata": {},
   "outputs": [],
   "source": [
    "# for a,b in enumerate([10,20,30]):\n",
    "#     print(a,b)"
   ]
  },
  {
   "cell_type": "code",
   "execution_count": 128,
   "metadata": {},
   "outputs": [
    {
     "name": "stdout",
     "output_type": "stream",
     "text": [
      "LINE 1 hello world\n",
      "LINE 2 你好，世界\n",
      "LINE 3 hai\n",
      "LINE 4 hello\n",
      "LINE 5 world\n"
     ]
    }
   ],
   "source": [
    "from pathlib import Path\n",
    "filepath = Path(r\"C:\\Users\\balap\\Desktop\\hello.txt\")\n",
    "f = open(filepath, encoding=\"utf-8\")\n",
    "\n",
    "lines = f.readlines()\n",
    "\n",
    "for i,line in enumerate(lines):\n",
    "    line = line.strip()\n",
    "    print( f'LINE {i+1}',   line)\n",
    "\n",
    "f.close()"
   ]
  },
  {
   "cell_type": "code",
   "execution_count": 138,
   "metadata": {},
   "outputs": [
    {
     "data": {
      "text/plain": [
       "3"
      ]
     },
     "execution_count": 138,
     "metadata": {},
     "output_type": "execute_result"
    }
   ],
   "source": [
    "len(\"hello world          happy\".split())"
   ]
  },
  {
   "cell_type": "code",
   "execution_count": 139,
   "metadata": {},
   "outputs": [
    {
     "name": "stdout",
     "output_type": "stream",
     "text": [
      "0 hello world 2\n",
      "1 你好，世界 1\n",
      "2 hai 1\n",
      "3 hello 1\n",
      "4 world 1\n"
     ]
    }
   ],
   "source": [
    "## Print out for each line, no of words in that line....\n",
    "from pathlib import Path\n",
    "filepath = Path(r\"C:\\Users\\balap\\Desktop\\hello.txt\")\n",
    "\n",
    "f = open(filepath, mode=\"r\", encoding=\"utf-8\")\n",
    "\n",
    "for i,line in enumerate(f):\n",
    "    line = line.strip()\n",
    "    print(i, line,  len(line.split()) )\n",
    "\n",
    "f.close()\n"
   ]
  },
  {
   "cell_type": "markdown",
   "metadata": {},
   "source": [
    "## Quiz 4"
   ]
  },
  {
   "cell_type": "markdown",
   "metadata": {},
   "source": [
    "\n",
    "1. Ask the user to enter a keyword to search\n",
    "2. Ask the user to enter the filename to search\n",
    "\n",
    "3. Print the line|lines , where we see that keyword"
   ]
  },
  {
   "cell_type": "code",
   "execution_count": 150,
   "metadata": {},
   "outputs": [
    {
     "name": "stdout",
     "output_type": "stream",
     "text": [
      "Enter keyword to searchhello\n",
      "Enter the filename to search :: FULL PATH <C:/....../input.txt> No need quoutes..dsadasd\n",
      "[Errno 2] No such file or directory: 'dsadasd'\n"
     ]
    }
   ],
   "source": [
    "keyword = input(\"Enter keyword to search\")\n",
    "filepath = input(\"Enter the filename to search :: FULL PATH <C:/....../input.txt> No need quoutes..\")\n",
    "\n",
    "# Your code here...\n",
    "try:\n",
    "    with open(filepath, mode=\"r\", encoding=\"UTF-8\") as f:\n",
    "        for line in f:\n",
    "            line = line.strip()\n",
    "            if keyword in line:\n",
    "                print(line)\n",
    "except FileNotFoundError as e:\n",
    "    print(e)"
   ]
  },
  {
   "cell_type": "markdown",
   "metadata": {},
   "source": [
    "## Write text files"
   ]
  },
  {
   "cell_type": "code",
   "execution_count": 163,
   "metadata": {},
   "outputs": [],
   "source": [
    "fname = \"C:/Users/balap/Desktop/teaching/pydot27/output.txt\"\n",
    "f = open(fname, mode=\"a\")\n",
    "\n",
    "f.write(\"hello\\n\")\n",
    "f.write(\"world\\n\")\n",
    "f.write(\"world123\\n\")\n",
    "\n",
    "f.close()"
   ]
  },
  {
   "cell_type": "markdown",
   "metadata": {},
   "source": [
    "## A simple func to save a line into a file"
   ]
  },
  {
   "cell_type": "code",
   "execution_count": 178,
   "metadata": {},
   "outputs": [],
   "source": [
    "def save_a_line_into_a_file(fname,line):\n",
    "    #fname = \"C:/Users/balap/Desktop/teaching/pydot27/output.txt\"\n",
    "    f = open(fname, mode=\"a\")\n",
    "    f.write(f\"{line}\\n\")\n",
    "    f.close()\n",
    "    \n",
    "fname = \"C:/Users/balap/Desktop/teaching/pydot27/output.txt\"\n",
    "save_a_line_into_a_file(fname, \"helloworld 12345\")"
   ]
  },
  {
   "cell_type": "code",
   "execution_count": 180,
   "metadata": {},
   "outputs": [],
   "source": [
    "# test it\n",
    "fname = \"C:/Users/balap/Desktop/teaching/pydot27/output.txt\"\n",
    "save_a_line_into_a_file(fname, \"helloworld 12345\")"
   ]
  },
  {
   "cell_type": "markdown",
   "metadata": {},
   "source": [
    "## To get current TimeStamp"
   ]
  },
  {
   "cell_type": "code",
   "execution_count": 164,
   "metadata": {},
   "outputs": [
    {
     "data": {
      "text/plain": [
       "'2020-01-08 14:45:17.517710'"
      ]
     },
     "execution_count": 164,
     "metadata": {},
     "output_type": "execute_result"
    }
   ],
   "source": [
    "from datetime import datetime\n",
    "str(datetime.now())"
   ]
  },
  {
   "cell_type": "code",
   "execution_count": 249,
   "metadata": {},
   "outputs": [
    {
     "data": {
      "text/plain": [
       "'2020-01-08-16-09-18'"
      ]
     },
     "execution_count": 249,
     "metadata": {},
     "output_type": "execute_result"
    }
   ],
   "source": [
    "import time\n",
    "time.strftime(\"%Y-%m-%d-%H-%M-%S\")"
   ]
  },
  {
   "cell_type": "markdown",
   "metadata": {},
   "source": [
    "## Quiz 2: Example for storing some info into file"
   ]
  },
  {
   "cell_type": "raw",
   "metadata": {},
   "source": [
    "## Use ur calculator function\n",
    "1. Everytime someone calls this function, save the expression and the result\n",
    "in the following format to a txt file\n",
    "\n",
    "Filename: \"calculator_history.csv\"\n",
    "\n",
    "2+3,5,2020-01-08 14:45:17.517710\n",
    "2+13,15,2020-01-08 14:45:17.517710"
   ]
  },
  {
   "cell_type": "code",
   "execution_count": 187,
   "metadata": {},
   "outputs": [],
   "source": [
    "from datetime import datetime\n",
    "\n",
    "def save_a_line_into_a_file(fname,line):\n",
    "    \n",
    "    #fname = \"C:/Users/balap/Desktop/teaching/pydot27/output.txt\"\n",
    "    f = open(fname, mode=\"a\")\n",
    "    f.write(f\"{line}\\n\")\n",
    "    f.close()\n",
    "    \n",
    "def Calculator(x,y,ops):\n",
    "    expr = f\"{x} {ops} {y}\"\n",
    "    res = eval(expr)\n",
    "    time = str(datetime.now())\n",
    "    \n",
    "    line = f\"{expr},{res},{time}\"\n",
    "    \n",
    "    fname = \"C:/Users/balap/Desktop/teaching/pydot27/output1.txt\"\n",
    "    save_a_line_into_a_file(fname, line)\n",
    "    return (expr,res,time)"
   ]
  },
  {
   "cell_type": "code",
   "execution_count": null,
   "metadata": {},
   "outputs": [],
   "source": [
    "# Test"
   ]
  },
  {
   "cell_type": "code",
   "execution_count": 190,
   "metadata": {},
   "outputs": [
    {
     "data": {
      "text/plain": [
       "('1 + 2', 3, '2020-01-08 15:05:24.172628')"
      ]
     },
     "execution_count": 190,
     "metadata": {},
     "output_type": "execute_result"
    }
   ],
   "source": [
    "Calculator(1,2,\"+\")"
   ]
  },
  {
   "cell_type": "code",
   "execution_count": 191,
   "metadata": {},
   "outputs": [
    {
     "data": {
      "text/plain": [
       "('10 * 20', 200, '2020-01-08 15:05:25.423081')"
      ]
     },
     "execution_count": 191,
     "metadata": {},
     "output_type": "execute_result"
    }
   ],
   "source": [
    "Calculator(10,20,\"*\")"
   ]
  },
  {
   "cell_type": "markdown",
   "metadata": {},
   "source": [
    "## Simple File Writing Example"
   ]
  },
  {
   "cell_type": "code",
   "execution_count": 195,
   "metadata": {},
   "outputs": [
    {
     "name": "stdout",
     "output_type": "stream",
     "text": [
      "Enter a student name:bala\n"
     ]
    }
   ],
   "source": [
    "name = input(\"Enter a student name:\")\n",
    "filename = r\"C:/Users/balap/Desktop/teaching/pydot27/students.txt\"\n",
    "\n",
    "f = open(filename,mode=\"a\")\n",
    "\n",
    "f.write(name+\"\\n\")\n",
    "f.write(f\"{name}\\n\")\n",
    "f.close()"
   ]
  },
  {
   "cell_type": "markdown",
   "metadata": {},
   "source": [
    "# Snippets for all"
   ]
  },
  {
   "cell_type": "markdown",
   "metadata": {},
   "source": [
    "## Read & write Text Files"
   ]
  },
  {
   "cell_type": "code",
   "execution_count": null,
   "metadata": {},
   "outputs": [],
   "source": [
    "#Read\n",
    "filename = r\"C:/Users/balap/Desktop/teaching/pydot27/students.txt\"\n",
    "f = open(filename, mode=\"r\",encoding=\"utf-8\")\n",
    "\n",
    "# read the entire file\n",
    "content = f.read()\n",
    "\n",
    "# efficiently loop through each line in the file\n",
    "for line in f:\n",
    "    print(line)\n",
    "\n",
    "f.close()"
   ]
  },
  {
   "cell_type": "code",
   "execution_count": null,
   "metadata": {},
   "outputs": [],
   "source": []
  },
  {
   "cell_type": "code",
   "execution_count": null,
   "metadata": {},
   "outputs": [],
   "source": [
    "#Write\n",
    "filename = r\"C:/Users/balap/Desktop/teaching/pydot27/students.txt\"\n",
    "f = open(filename, mode=\"w\",encoding=\"utf-8\")\n",
    "#File mode: append = \"a\"\n",
    "# write something\n",
    "f.write( \"hello \\n\" ) #make sure u have \"\\n\" newline char..\n",
    "\n",
    "# to save multiple lines...\n",
    "lines = [\n",
    "    \"line1\\n\",\n",
    "    \"line2\\n\"\n",
    "]\n",
    "f.writelines( lines )\n",
    "\n",
    "f.close()"
   ]
  },
  {
   "cell_type": "code",
   "execution_count": null,
   "metadata": {},
   "outputs": [],
   "source": []
  },
  {
   "cell_type": "markdown",
   "metadata": {},
   "source": [
    "## Read & write csv Files"
   ]
  },
  {
   "cell_type": "code",
   "execution_count": 213,
   "metadata": {},
   "outputs": [],
   "source": [
    "# fname = \"C:/Users/balap/Desktop/teaching/pydot27/students.csv\"\n",
    "\n",
    "# f = open(fname)\n",
    "# firstline = f.readline()\n",
    "# for line in f:\n",
    "#     line = line.strip()\n",
    "#     print(int(line.split(\",\")[1]))\n",
    "# f.close()"
   ]
  },
  {
   "cell_type": "code",
   "execution_count": 208,
   "metadata": {},
   "outputs": [
    {
     "name": "stdout",
     "output_type": "stream",
     "text": [
      "27\n",
      "38\n"
     ]
    }
   ],
   "source": [
    "#Read csv\n",
    "\n",
    "import csv\n",
    "fname = \"C:/Users/balap/Desktop/teaching/pydot27/students.csv\"\n",
    "f = open(fname)\n",
    "_ = f.readline()\n",
    "csv_reader = csv.reader(f)\n",
    "for row in csv_reader:\n",
    "    print(row[1])\n",
    "f.close()"
   ]
  },
  {
   "cell_type": "code",
   "execution_count": 218,
   "metadata": {},
   "outputs": [],
   "source": [
    "#Write csv\n",
    "\n",
    "import csv\n",
    "fname = \"C:/Users/balap/Desktop/teaching/pydot27/students_using_csvwriter.csv\"\n",
    "f = open(fname, mode=\"w\",newline=\"\") #fix for windwos new line bug with csv package\n",
    "\n",
    "csv_writer = csv.writer(f)\n",
    "\n",
    "#f.write(\"sno,name,contact\")\n",
    "csv_writer.writerow( ['sno', 'name', 'contact'] )\n",
    "csv_writer.writerow( [1, 'bala', '765789'] )\n",
    "csv_writer.writerow( [2, 'ken', '56789'] )\n",
    "\n",
    "f.close()"
   ]
  },
  {
   "cell_type": "code",
   "execution_count": null,
   "metadata": {},
   "outputs": [],
   "source": [
    "#Write csv - multiple lines using writerows\n",
    "\n",
    "import csv\n",
    "fname = \"C:/Users/balap/Desktop/teaching/pydot27/students_using_csvwriter.csv\"\n",
    "f = open(fname, mode=\"w\",newline=\"\") #fix for windwos new line bug with csv package\n",
    "\n",
    "csv_writer = csv.writer(f)\n",
    "\n",
    "#f.write(\"sno,name,contact\")\n",
    "rows = [\n",
    " ['sno', 'name', 'contact'],\n",
    " [1, 'bala', '765789'],\n",
    " [2, 'ken', '56789']\n",
    "]\n",
    "csv_writer.writerows(rows)\n",
    "\n",
    "f.close()"
   ]
  },
  {
   "cell_type": "code",
   "execution_count": 212,
   "metadata": {},
   "outputs": [],
   "source": [
    "# import pandas as pd\n",
    "# df = pd.read_csv(fname)\n",
    "# df.head()"
   ]
  },
  {
   "cell_type": "code",
   "execution_count": null,
   "metadata": {},
   "outputs": [],
   "source": []
  },
  {
   "cell_type": "markdown",
   "metadata": {},
   "source": [
    "## Workshop 2 - CPU-MEM"
   ]
  },
  {
   "cell_type": "markdown",
   "metadata": {},
   "source": [
    "#### End"
   ]
  }
 ],
 "metadata": {
  "kernelspec": {
   "display_name": "Python 3",
   "language": "python",
   "name": "python3"
  },
  "language_info": {
   "codemirror_mode": {
    "name": "ipython",
    "version": 3
   },
   "file_extension": ".py",
   "mimetype": "text/x-python",
   "name": "python",
   "nbconvert_exporter": "python",
   "pygments_lexer": "ipython3",
   "version": "3.7.3"
  }
 },
 "nbformat": 4,
 "nbformat_minor": 2
}
