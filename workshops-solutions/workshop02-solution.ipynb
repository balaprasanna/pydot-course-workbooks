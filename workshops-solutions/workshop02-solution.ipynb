{
 "cells": [
  {
   "cell_type": "markdown",
   "metadata": {
    "colab_type": "text",
    "id": "lNB3ZYRzLkUF"
   },
   "source": [
    "\n",
    "# Workshop 02:\n",
    "---\n",
    "##### Concepts:\n",
    "- Basic Python\n",
    "    - Loops, Dict, functions, Packages\n",
    "- Read & Write Text files\n",
    "    - Csv file, Text file\n",
    "    - Loop inside a Folder\n",
    "- explore some packages\n",
    "    "
   ]
  },
  {
   "cell_type": "markdown",
   "metadata": {},
   "source": [
    "\n",
    "### Part 1\n",
    "---    \n",
    "\n",
    "Metric collector - #cpu #memory usage percentage\n",
    "---\n",
    "\n",
    "1. Run some function Every 30 Second\n",
    "2. The function is to collect cpu, mem usage (percentage) of your machine.\n",
    "3. Save the metrics into a csv file..\n",
    "\n",
    "*Find & explore package in `pypi.org` that gives `cpu`, `memory` percentage...*\n"
   ]
  },
  {
   "cell_type": "code",
   "execution_count": 63,
   "metadata": {},
   "outputs": [
    {
     "data": {
      "text/plain": [
       "' hello  '"
      ]
     },
     "execution_count": 63,
     "metadata": {},
     "output_type": "execute_result"
    }
   ],
   "source": [
    "\" hello  \""
   ]
  },
  {
   "cell_type": "code",
   "execution_count": 56,
   "metadata": {},
   "outputs": [
    {
     "name": "stdout",
     "output_type": "stream",
     "text": [
      "Saved  (23.7, 47.6, '2020-01-09 11:27:32.244114')\n",
      "Saved  (19.3, 47.6, '2020-01-09 11:27:37.246152')\n",
      "Saved  (14.1, 47.4, '2020-01-09 11:27:42.248871')\n",
      "Saved  (20.4, 47.5, '2020-01-09 11:27:47.251829')\n",
      "Saved  (14.3, 47.4, '2020-01-09 11:27:52.254826')\n",
      "Shutting down gracefully...\n"
     ]
    }
   ],
   "source": [
    "# code here\n",
    "import time,csv,psutil\n",
    "from datetime import datetime\n",
    "SECONDS = 5\n",
    "\n",
    "def collect_metrics(): \n",
    "    \"\"\" collect some cpu,mem: returns (cpu,mem,timestamp)\"\"\"\n",
    "    cpu = psutil.cpu_percent()\n",
    "    mem = psutil.virtual_memory().percent\n",
    "    timestamp = str(datetime.now())\n",
    "    return (cpu,mem,timestamp)\n",
    "\n",
    "def save_metrics_to_csv(row):\n",
    "    with open(\"cpu_mem.csv\", mode=\"a\", encoding=\"utf-8\", newline=\"\") as f:\n",
    "        #f.write( f\"{row[0]},{row[1]},{row[2]}\\n\" )\n",
    "        csv_writer = csv.writer(f)\n",
    "        csv_writer.writerow( row )  #(10.0, 47.0, '2020-01-09 11:12:29.653927')\n",
    "    print(\"Saved \",row)\n",
    "\n",
    "def check_if_the_file_has_header():\n",
    "    with open(\"cpu_mem.csv\") as f:\n",
    "        if f.read().strip() == \"\": return False\n",
    "        else:                      return True\n",
    "\n",
    "if not check_if_the_file_has_header(): save_metrics_to_csv([\"cpu\",\"mem\",\"timestamp\"])\n",
    "    \n",
    "while True:\n",
    "    try:\n",
    "        row_tpl = collect_metrics() #(10.0, 47.0, '2020-01-09 11:12:29.653927')\n",
    "        save_metrics_to_csv(row_tpl)\n",
    "        time.sleep(SECONDS)\n",
    "    except KeyboardInterrupt:\n",
    "        print(\"Shutting down gracefully...\")\n",
    "        break"
   ]
  },
  {
   "cell_type": "code",
   "execution_count": 40,
   "metadata": {},
   "outputs": [],
   "source": [
    "#get cpu,mem\n",
    "\n",
    "# function: collect_metrics\n",
    "# inputs: None\n",
    "# return: tuple (cpu,mem)\n",
    "\n"
   ]
  },
  {
   "cell_type": "code",
   "execution_count": 48,
   "metadata": {},
   "outputs": [
    {
     "data": {
      "text/plain": [
       "(10.0, 47.0, '2020-01-09 11:12:29.653927')"
      ]
     },
     "execution_count": 48,
     "metadata": {},
     "output_type": "execute_result"
    }
   ],
   "source": [
    "collect_metrics()"
   ]
  },
  {
   "cell_type": "code",
   "execution_count": null,
   "metadata": {},
   "outputs": [],
   "source": []
  },
  {
   "cell_type": "code",
   "execution_count": 39,
   "metadata": {},
   "outputs": [
    {
     "data": {
      "text/plain": [
       "'2020-01-09 11:12:02.231405'"
      ]
     },
     "execution_count": 39,
     "metadata": {},
     "output_type": "execute_result"
    }
   ],
   "source": [
    "from datetime import datetime\n",
    "str(datetime.now())"
   ]
  },
  {
   "cell_type": "code",
   "execution_count": 27,
   "metadata": {},
   "outputs": [
    {
     "data": {
      "text/plain": [
       "47.1"
      ]
     },
     "execution_count": 27,
     "metadata": {},
     "output_type": "execute_result"
    }
   ],
   "source": [
    "obj = psutil.virtual_memory()\n",
    "obj.percent"
   ]
  },
  {
   "cell_type": "code",
   "execution_count": 26,
   "metadata": {},
   "outputs": [
    {
     "data": {
      "text/plain": [
       "47.2"
      ]
     },
     "execution_count": 26,
     "metadata": {},
     "output_type": "execute_result"
    }
   ],
   "source": [
    "obj.percent"
   ]
  },
  {
   "cell_type": "code",
   "execution_count": 60,
   "metadata": {},
   "outputs": [],
   "source": [
    "# help(obj.per)"
   ]
  },
  {
   "cell_type": "markdown",
   "metadata": {},
   "source": [
    "## use a scheduler"
   ]
  },
  {
   "cell_type": "code",
   "execution_count": 4,
   "metadata": {},
   "outputs": [],
   "source": [
    "# import schedule\n",
    "# import time\n",
    "\n",
    "# def job():\n",
    "#     print(\"I'm working...\")\n",
    "\n",
    "# schedule.every(2).seconds.do(job)\n",
    "# # schedule.every().hour.do(job)\n",
    "# # schedule.every().day.at(\"10:30\").do(job)\n",
    "# # schedule.every().monday.do(job)\n",
    "# # schedule.every().wednesday.at(\"13:15\").do(job)\n",
    "# # schedule.every().minute.at(\":17\").do(job)\n",
    "\n",
    "# while True:\n",
    "#     schedule.run_pending()\n",
    "#     time.sleep(1)"
   ]
  },
  {
   "cell_type": "code",
   "execution_count": null,
   "metadata": {},
   "outputs": [],
   "source": []
  },
  {
   "cell_type": "markdown",
   "metadata": {},
   "source": [
    "#### Test your implementation with the following code"
   ]
  },
  {
   "cell_type": "code",
   "execution_count": 57,
   "metadata": {},
   "outputs": [
    {
     "data": {
      "text/html": [
       "<div>\n",
       "<style scoped>\n",
       "    .dataframe tbody tr th:only-of-type {\n",
       "        vertical-align: middle;\n",
       "    }\n",
       "\n",
       "    .dataframe tbody tr th {\n",
       "        vertical-align: top;\n",
       "    }\n",
       "\n",
       "    .dataframe thead th {\n",
       "        text-align: right;\n",
       "    }\n",
       "</style>\n",
       "<table border=\"1\" class=\"dataframe\">\n",
       "  <thead>\n",
       "    <tr style=\"text-align: right;\">\n",
       "      <th></th>\n",
       "      <th>cpu</th>\n",
       "      <th>mem</th>\n",
       "      <th>timestamp</th>\n",
       "    </tr>\n",
       "  </thead>\n",
       "  <tbody>\n",
       "    <tr>\n",
       "      <th>0</th>\n",
       "      <td>13.6</td>\n",
       "      <td>47.9</td>\n",
       "      <td>2020-01-09 11:27:20.219757</td>\n",
       "    </tr>\n",
       "    <tr>\n",
       "      <th>1</th>\n",
       "      <td>21.3</td>\n",
       "      <td>47.9</td>\n",
       "      <td>2020-01-09 11:27:25.222104</td>\n",
       "    </tr>\n",
       "    <tr>\n",
       "      <th>2</th>\n",
       "      <td>23.7</td>\n",
       "      <td>47.6</td>\n",
       "      <td>2020-01-09 11:27:32.244114</td>\n",
       "    </tr>\n",
       "    <tr>\n",
       "      <th>3</th>\n",
       "      <td>19.3</td>\n",
       "      <td>47.6</td>\n",
       "      <td>2020-01-09 11:27:37.246152</td>\n",
       "    </tr>\n",
       "    <tr>\n",
       "      <th>4</th>\n",
       "      <td>14.1</td>\n",
       "      <td>47.4</td>\n",
       "      <td>2020-01-09 11:27:42.248871</td>\n",
       "    </tr>\n",
       "  </tbody>\n",
       "</table>\n",
       "</div>"
      ],
      "text/plain": [
       "    cpu   mem                   timestamp\n",
       "0  13.6  47.9  2020-01-09 11:27:20.219757\n",
       "1  21.3  47.9  2020-01-09 11:27:25.222104\n",
       "2  23.7  47.6  2020-01-09 11:27:32.244114\n",
       "3  19.3  47.6  2020-01-09 11:27:37.246152\n",
       "4  14.1  47.4  2020-01-09 11:27:42.248871"
      ]
     },
     "execution_count": 57,
     "metadata": {},
     "output_type": "execute_result"
    }
   ],
   "source": [
    "import pandas as pd\n",
    "import matplotlib.pyplot as plt\n",
    "df = pd.read_csv('./cpu_mem.csv')\n",
    "df.head()"
   ]
  },
  {
   "cell_type": "code",
   "execution_count": 58,
   "metadata": {},
   "outputs": [
    {
     "data": {
      "text/plain": [
       "<matplotlib.axes._subplots.AxesSubplot at 0x244551e9f60>"
      ]
     },
     "execution_count": 58,
     "metadata": {},
     "output_type": "execute_result"
    },
    {
     "data": {
      "image/png": "[encoded data removed]",
      "text/plain": [
       "<Figure size 432x288 with 1 Axes>"
      ]
     },
     "metadata": {
      "needs_background": "light"
     },
     "output_type": "display_data"
    }
   ],
   "source": [
    "df.cpu.plot()"
   ]
  },
  {
   "cell_type": "code",
   "execution_count": 59,
   "metadata": {},
   "outputs": [
    {
     "data": {
      "text/plain": [
       "<matplotlib.axes._subplots.AxesSubplot at 0x24455526ef0>"
      ]
     },
     "execution_count": 59,
     "metadata": {},
     "output_type": "execute_result"
    },
    {
     "data": {
      "image/png": "[encoded data removed]",
      "text/plain": [
       "<Figure size 432x288 with 1 Axes>"
      ]
     },
     "metadata": {
      "needs_background": "light"
     },
     "output_type": "display_data"
    }
   ],
   "source": [
    "df.mem.plot()"
   ]
  },
  {
   "cell_type": "code",
   "execution_count": null,
   "metadata": {},
   "outputs": [],
   "source": []
  }
 ],
 "metadata": {
  "colab": {
   "collapsed_sections": [
    "eUCYwxGUZC5S",
    "LPClnJ_vZGiu"
   ],
   "name": "Pydot Workshops.ipynb",
   "provenance": []
  },
  "kernelspec": {
   "display_name": "Python 3",
   "language": "python",
   "name": "python3"
  },
  "language_info": {
   "codemirror_mode": {
    "name": "ipython",
    "version": 3
   },
   "file_extension": ".py",
   "mimetype": "text/x-python",
   "name": "python",
   "nbconvert_exporter": "python",
   "pygments_lexer": "ipython3",
   "version": "3.7.3"
  }
 },
 "nbformat": 4,
 "nbformat_minor": 1
}
