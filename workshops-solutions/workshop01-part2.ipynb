{
 "cells": [
  {
   "cell_type": "markdown",
   "metadata": {
    "colab_type": "text",
    "id": "CCtJz8xPKuc6"
   },
   "source": [
    "# Module 1 - Part 2\n",
    "- Foundational Python refresher..."
   ]
  },
  {
   "cell_type": "markdown",
   "metadata": {
    "colab_type": "text",
    "id": "hnAjXbsmNoQR"
   },
   "source": [
    "#### Advanced String manipulations Revisited"
   ]
  },
  {
   "cell_type": "markdown",
   "metadata": {
    "colab_type": "text",
    "id": "M7aVETqlOLay"
   },
   "source": [
    "```\n",
    "- \"a\" + \"bc\"\n",
    "\n",
    "- 3 * \"bc\"\n",
    "\n",
    "- \"3\" * \"bc\"\n",
    "\n",
    "- \"Abcd\"[2]\n",
    "\n",
    "- \"Abcd\"[0:2]\n",
    "\n",
    "- \"Abcd\"[0:2:1]\n",
    "\n",
    "- \"Abcd\"[ : : 2]\n",
    "\n",
    "- \"Abcd\"[ :2 ]\n",
    "\n",
    "- \"Abcd\"[2:]\n",
    "```"
   ]
  },
  {
   "cell_type": "code",
   "execution_count": null,
   "metadata": {},
   "outputs": [],
   "source": [
    "1. abc\n",
    "2. bcbcbc\n",
    "3. Error\n",
    "4. c\n",
    "5. Ab\n",
    "6. Ab\n",
    "7. cd"
   ]
  },
  {
   "cell_type": "markdown",
   "metadata": {
    "colab_type": "text",
    "id": "zIl9C0jbOL1l"
   },
   "source": [
    "#### More on strings & slicing..\n",
    "\n",
    "```\n",
    "str1 = 'hello'\n",
    "str2 = ','\n",
    "str3 = 'world'\n",
    "```"
   ]
  },
  {
   "cell_type": "code",
   "execution_count": 1,
   "metadata": {},
   "outputs": [
    {
     "data": {
      "text/plain": [
       "''"
      ]
     },
     "execution_count": 1,
     "metadata": {},
     "output_type": "execute_result"
    }
   ],
   "source": [
    "str1 = 'hello'\n",
    "str1[-1 : 4 ]"
   ]
  },
  {
   "cell_type": "markdown",
   "metadata": {
    "colab_type": "text",
    "id": "S1yJvqWMPGEQ"
   },
   "source": [
    "Part 1 - Answer the following\n",
    "\n",
    "```\n",
    "- str1[0]\n",
    "\n",
    "    - h\n",
    "\n",
    "- Str1[1]\n",
    "    - Error\n",
    "\n",
    "- str1[-1]\n",
    "    - o\n",
    "\n",
    "- len(str1)\n",
    "    - 5\n",
    "\n",
    "- str1[ len(str1)-1 ]\n",
    "    - o\n",
    "\n",
    "- str1[-1 : len(str1)-1 ]\n",
    "    - ''\n",
    "\n",
    "- str1 + str2 + str3\n",
    "    - hello,world\n",
    "\n",
    "- str1 + str2 + ' ' + str3\n",
    "    - hello, world\n",
    "\n",
    "- str3 * 3\n",
    "    - worldworldworld\n",
    "\n",
    "- 'hello' == str1\n",
    "    - True\n",
    "\n",
    "- 'HELLO' == str1\n",
    "    - False\n",
    "\n",
    "- 'a' in str3\n",
    "    - False\n",
    "```"
   ]
  },
  {
   "cell_type": "code",
   "execution_count": 2,
   "metadata": {
    "colab": {},
    "colab_type": "code",
    "id": "wfRykJN7Qook"
   },
   "outputs": [],
   "source": [
    "str4 = 'helloworld'"
   ]
  },
  {
   "cell_type": "code",
   "execution_count": null,
   "metadata": {},
   "outputs": [],
   "source": []
  },
  {
   "cell_type": "markdown",
   "metadata": {
    "colab_type": "text",
    "id": "etoxGBJFPODB"
   },
   "source": [
    "Part 2 - Answer the following\n",
    "\n",
    "```\n",
    "- str4 = 'helloworld'\n",
    "\n",
    "- 'low' in str4\n",
    "    - True\n",
    "\n",
    "- str3[1:3]\n",
    "    - or\n",
    "\n",
    "- str3[:3]\n",
    "    - wor\n",
    "\n",
    "- [str3:-1]\n",
    "    - Error\n",
    "    - str3[:-1]\n",
    "\n",
    "- str1[1:]\n",
    "    - ello\n",
    "\n",
    "- str4[1:9]\n",
    "    - elloworl\n",
    "\n",
    "- str4[9:1:2] \n",
    "    - ''\n",
    "\n",
    "- str4[9:1:-2] \n",
    "    - drwle\n",
    "\n",
    "- Str4[::-1]\n",
    "    - Error\n",
    "- str4[::-1]\n",
    "    - reversed(helloworld)\n",
    "```"
   ]
  },
  {
   "cell_type": "markdown",
   "metadata": {
    "colab_type": "text",
    "id": "PFmh-LB1S0Kg"
   },
   "source": [
    "#### Python dict\n",
    "\n",
    "\n",
    "Given the following code...\n",
    "\n",
    "```python\n",
    "animals = {\n",
    "            'a': 'aardvark',\n",
    "            'b': 'baboon',\n",
    "            'c': 'coati'\n",
    "          }\n",
    "\n",
    "animals['d'] = 'donkey'\n",
    "animals['b'] = 'donkey'\n",
    "\n",
    "```"
   ]
  },
  {
   "cell_type": "markdown",
   "metadata": {
    "colab_type": "text",
    "id": "LtGZCyt_TLcD"
   },
   "source": [
    "#### Guess the output with respect to the given dict..\n",
    "\n",
    "1. \n",
    "```\n",
    "animals\n",
    "```\n",
    "--- \n",
    "\n",
    "2. \n",
    "```\n",
    "animals[\"donkey\"]\n",
    "```\n",
    "---\n",
    "\n",
    "3. \n",
    "```\n",
    "animals.get('donkey')\n",
    "```\n",
    "---\n",
    "\n",
    "4. \n",
    "```\n",
    "len(animals)\n",
    "```\n",
    "---\n",
    "\n",
    "5. \n",
    "```\n",
    "animals['a'] = 'anteater'\n",
    "```\n",
    "---\n",
    "\n",
    "6. \n",
    "```\n",
    "len(animals['a'])\n",
    "```\n",
    "---\n",
    "\n",
    "7. \n",
    "```\n",
    "'baboon' in animals \n",
    "```\n",
    "---\n",
    "\n",
    "8. \n",
    "```\n",
    " 'donkey' in animals.values()\n",
    "```\n",
    "---\n",
    "\n",
    "9. \n",
    "```\n",
    "'b' in animals \n",
    "```\n",
    "---\n",
    "10. \n",
    "```\n",
    "animals.keys()\n",
    "```\n",
    "---\n",
    "11. \n",
    "```\n",
    "del animals['b']\n",
    "len(animals)\n",
    "animals\n",
    "```\n",
    "---\n",
    "12. \n",
    "```\n",
    "animals.values()\n",
    "```\n",
    "---\n",
    "13. \n",
    "```\n",
    "animals.get(\"d\",'donkey')\n",
    "```"
   ]
  },
  {
   "cell_type": "code",
   "execution_count": 3,
   "metadata": {
    "colab": {},
    "colab_type": "code",
    "id": "fpyJaBNHQoHL"
   },
   "outputs": [],
   "source": [
    "animals = {\n",
    "            'a': 'aardvark',\n",
    "            'b': 'baboon',\n",
    "            'c': 'coati'\n",
    "          }\n",
    "\n",
    "animals['d'] = 'donkey'\n",
    "animals['b'] = 'donkey'"
   ]
  },
  {
   "cell_type": "code",
   "execution_count": 4,
   "metadata": {},
   "outputs": [
    {
     "data": {
      "text/plain": [
       "{'a': 'aardvark', 'b': 'donkey', 'c': 'coati', 'd': 'donkey'}"
      ]
     },
     "execution_count": 4,
     "metadata": {},
     "output_type": "execute_result"
    }
   ],
   "source": [
    "animals"
   ]
  },
  {
   "cell_type": "code",
   "execution_count": 5,
   "metadata": {},
   "outputs": [
    {
     "ename": "KeyError",
     "evalue": "'donkey'",
     "output_type": "error",
     "traceback": [
      "\u001b[1;31m---------------------------------------------------------------------------\u001b[0m",
      "\u001b[1;31mKeyError\u001b[0m                                  Traceback (most recent call last)",
      "\u001b[1;32m<ipython-input-5-92df17b9d66f>\u001b[0m in \u001b[0;36m<module>\u001b[1;34m\u001b[0m\n\u001b[1;32m----> 1\u001b[1;33m \u001b[0manimals\u001b[0m\u001b[1;33m[\u001b[0m\u001b[1;34m\"donkey\"\u001b[0m\u001b[1;33m]\u001b[0m \u001b[1;31m# KeyError\u001b[0m\u001b[1;33m\u001b[0m\u001b[1;33m\u001b[0m\u001b[0m\n\u001b[0m",
      "\u001b[1;31mKeyError\u001b[0m: 'donkey'"
     ]
    }
   ],
   "source": [
    "animals[\"donkey\"] # KeyError"
   ]
  },
  {
   "cell_type": "code",
   "execution_count": 9,
   "metadata": {},
   "outputs": [
    {
     "data": {
      "text/plain": [
       "4"
      ]
     },
     "execution_count": 9,
     "metadata": {},
     "output_type": "execute_result"
    }
   ],
   "source": [
    "len(animals)"
   ]
  },
  {
   "cell_type": "code",
   "execution_count": 10,
   "metadata": {},
   "outputs": [],
   "source": [
    "animals['a'] = 'anteater'"
   ]
  },
  {
   "cell_type": "code",
   "execution_count": 11,
   "metadata": {},
   "outputs": [
    {
     "data": {
      "text/plain": [
       "{'a': 'anteater', 'b': 'donkey', 'c': 'coati', 'd': 'donkey'}"
      ]
     },
     "execution_count": 11,
     "metadata": {},
     "output_type": "execute_result"
    }
   ],
   "source": [
    "animals"
   ]
  },
  {
   "cell_type": "code",
   "execution_count": 12,
   "metadata": {},
   "outputs": [
    {
     "data": {
      "text/plain": [
       "8"
      ]
     },
     "execution_count": 12,
     "metadata": {},
     "output_type": "execute_result"
    }
   ],
   "source": [
    "len(animals['a'])"
   ]
  },
  {
   "cell_type": "code",
   "execution_count": 13,
   "metadata": {},
   "outputs": [
    {
     "data": {
      "text/plain": [
       "False"
      ]
     },
     "execution_count": 13,
     "metadata": {},
     "output_type": "execute_result"
    }
   ],
   "source": [
    "'baboon' in animals"
   ]
  },
  {
   "cell_type": "code",
   "execution_count": null,
   "metadata": {},
   "outputs": [],
   "source": []
  },
  {
   "cell_type": "code",
   "execution_count": 15,
   "metadata": {},
   "outputs": [
    {
     "data": {
      "text/plain": [
       "True"
      ]
     },
     "execution_count": 15,
     "metadata": {},
     "output_type": "execute_result"
    }
   ],
   "source": [
    "'donkey' in animals.values()"
   ]
  },
  {
   "cell_type": "code",
   "execution_count": 16,
   "metadata": {
    "scrolled": true
   },
   "outputs": [
    {
     "data": {
      "text/plain": [
       "True"
      ]
     },
     "execution_count": 16,
     "metadata": {},
     "output_type": "execute_result"
    }
   ],
   "source": [
    "'b' in animals "
   ]
  },
  {
   "cell_type": "code",
   "execution_count": 17,
   "metadata": {},
   "outputs": [
    {
     "data": {
      "text/plain": [
       "dict_keys(['a', 'b', 'c', 'd'])"
      ]
     },
     "execution_count": 17,
     "metadata": {},
     "output_type": "execute_result"
    }
   ],
   "source": [
    "animals.keys()"
   ]
  },
  {
   "cell_type": "code",
   "execution_count": 19,
   "metadata": {},
   "outputs": [
    {
     "data": {
      "text/plain": [
       "{'a': 'anteater', 'c': 'coati', 'd': 'donkey'}"
      ]
     },
     "execution_count": 19,
     "metadata": {},
     "output_type": "execute_result"
    }
   ],
   "source": [
    "del animals['b']\n",
    "len(animals) #3\n",
    "animals\n"
   ]
  },
  {
   "cell_type": "code",
   "execution_count": 22,
   "metadata": {},
   "outputs": [
    {
     "data": {
      "text/plain": [
       "'donkey'"
      ]
     },
     "execution_count": 22,
     "metadata": {},
     "output_type": "execute_result"
    }
   ],
   "source": [
    "animals.get(\"d123\",'donkey')"
   ]
  },
  {
   "cell_type": "code",
   "execution_count": 21,
   "metadata": {},
   "outputs": [
    {
     "data": {
      "text/plain": [
       "{'a': 'anteater', 'c': 'coati', 'd': 'donkey'}"
      ]
     },
     "execution_count": 21,
     "metadata": {},
     "output_type": "execute_result"
    }
   ],
   "source": [
    "animals"
   ]
  },
  {
   "cell_type": "code",
   "execution_count": 8,
   "metadata": {},
   "outputs": [],
   "source": [
    "animals.get(\"donkey\")"
   ]
  },
  {
   "cell_type": "code",
   "execution_count": 0,
   "metadata": {
    "colab": {},
    "colab_type": "code",
    "id": "cjA1eUI1TO5s"
   },
   "outputs": [],
   "source": [
    "## Outputs..."
   ]
  },
  {
   "cell_type": "markdown",
   "metadata": {
    "colab_type": "text",
    "id": "Hup1luuoTLe5"
   },
   "source": [
    "#### Tuples\n",
    "\n",
    "Assume we've made the following assignment:\n",
    "\n",
    "```python\n",
    "x = (1, 2, (3, 'John', 4), 'Hi')\n",
    "```\n"
   ]
  },
  {
   "cell_type": "markdown",
   "metadata": {
    "colab_type": "text",
    "id": "VFmjuei-TLlJ"
   },
   "source": [
    "\n",
    "Ouput ???\n",
    "\n",
    "- x[0]\n",
    "    - 1\n",
    "\n",
    "---\n",
    "- x[2]\n",
    "    - (3,'John',4)\n",
    "---\n",
    "- x[-1]\n",
    "    - \"Hi\"\n",
    "---\n",
    "- x[2][2]\n",
    "    - 4\n",
    "---\n",
    "- x[2][-1]\n",
    "    - 4\n",
    "---\n",
    "- x[-1][-1]\n",
    "    - i\n",
    "---\n",
    "- x[-1][2]\n",
    "    - Index error\n",
    "---\n",
    "- x[0:1]\n",
    "    - (1,)\n",
    "---\n",
    "- x[0:-1]\n",
    "    - 1, 2, (3, 'John', 4)\n",
    "---\n",
    "- len(x)\n",
    "    - 4\n",
    "---\n",
    "- 2 in x\n",
    "    - True\n",
    "---\n",
    "- 3 in x\n",
    "    - False\n",
    "---\n",
    "- x[0] = 8\n",
    "    - Unsupported operation\n",
    "---"
   ]
  },
  {
   "cell_type": "code",
   "execution_count": 0,
   "metadata": {
    "colab": {},
    "colab_type": "code",
    "id": "sgSk5E6SXu09"
   },
   "outputs": [],
   "source": [
    "## Outputs..."
   ]
  },
  {
   "cell_type": "markdown",
   "metadata": {
    "colab_type": "text",
    "id": "Y7t_dKKKRD9T"
   },
   "source": [
    "## Code Snip"
   ]
  },
  {
   "cell_type": "code",
   "execution_count": null,
   "metadata": {},
   "outputs": [],
   "source": []
  },
  {
   "cell_type": "markdown",
   "metadata": {
    "colab_type": "text",
    "id": "006CV236LS7e"
   },
   "source": [
    "###  Code Snippets 03\n",
    "- visit : http://www.99-bottles-of-beer.net/lyrics.html\n",
    "- Write a program to re-generate lyrics for `99 bottles` song \n"
   ]
  },
  {
   "cell_type": "markdown",
   "metadata": {},
   "source": [
    "- HINT : \n",
    "    - step 1 -Identity the repeated pattern\n",
    "    - step 2 -Find the static and dynamic portions of the string\n",
    "    - step 3 -use loop and string formatting to generate the SONG."
   ]
  },
  {
   "cell_type": "code",
   "execution_count": 1,
   "metadata": {
    "scrolled": false
   },
   "outputs": [
    {
     "data": {
      "text/html": [
       "\n",
       "        <iframe\n",
       "            width=\"800\"\n",
       "            height=\"400\"\n",
       "            src=\"http://www.99-bottles-of-beer.net/lyrics.html\"\n",
       "            frameborder=\"0\"\n",
       "            allowfullscreen\n",
       "        ></iframe>\n",
       "        "
      ],
      "text/plain": [
       "<IPython.lib.display.IFrame at 0x25fbf5122b0>"
      ]
     },
     "execution_count": 1,
     "metadata": {},
     "output_type": "execute_result"
    }
   ],
   "source": [
    "from IPython.display import IFrame\n",
    "IFrame(src='http://www.99-bottles-of-beer.net/lyrics.html', width=800, height=400)"
   ]
  },
  {
   "cell_type": "code",
   "execution_count": null,
   "metadata": {},
   "outputs": [],
   "source": []
  },
  {
   "cell_type": "code",
   "execution_count": 3,
   "metadata": {},
   "outputs": [
    {
     "data": {
      "text/plain": [
       "'welcome {person}'"
      ]
     },
     "execution_count": 3,
     "metadata": {},
     "output_type": "execute_result"
    }
   ],
   "source": [
    "person = \"bala\"\n",
    "\n",
    "\"\"\"welcome {person}\"\"\""
   ]
  },
  {
   "cell_type": "code",
   "execution_count": 6,
   "metadata": {},
   "outputs": [
    {
     "data": {
      "text/plain": [
       "'line1\\nline2\\nline3'"
      ]
     },
     "execution_count": 6,
     "metadata": {},
     "output_type": "execute_result"
    }
   ],
   "source": [
    "\"line1\\nline2\\nline3\""
   ]
  },
  {
   "cell_type": "code",
   "execution_count": null,
   "metadata": {},
   "outputs": [],
   "source": [
    "\"\"\"line1\n",
    "line2\n",
    "line3\n",
    "\"\"\""
   ]
  },
  {
   "cell_type": "code",
   "execution_count": 24,
   "metadata": {
    "colab": {},
    "colab_type": "code",
    "id": "A1f0nR4AQ_0D"
   },
   "outputs": [
    {
     "name": "stdout",
     "output_type": "stream",
     "text": [
      "99 bottles of beer on the wall, 99 bottles of beer.\n",
      "Take one down and pass it around, 98 bottles of beer on the wall.\n",
      "\n",
      "98 bottles of beer on the wall, 98 bottles of beer.\n",
      "Take one down and pass it around, 97 bottles of beer on the wall.\n",
      "\n",
      "97 bottles of beer on the wall, 97 bottles of beer.\n",
      "Take one down and pass it around, 96 bottles of beer on the wall.\n",
      "\n",
      "96 bottles of beer on the wall, 96 bottles of beer.\n",
      "Take one down and pass it around, 95 bottles of beer on the wall.\n",
      "\n",
      "95 bottles of beer on the wall, 95 bottles of beer.\n",
      "Take one down and pass it around, 94 bottles of beer on the wall.\n",
      "\n",
      "94 bottles of beer on the wall, 94 bottles of beer.\n",
      "Take one down and pass it around, 93 bottles of beer on the wall.\n",
      "\n",
      "93 bottles of beer on the wall, 93 bottles of beer.\n",
      "Take one down and pass it around, 92 bottles of beer on the wall.\n",
      "\n",
      "92 bottles of beer on the wall, 92 bottles of beer.\n",
      "Take one down and pass it around, 91 bottles of beer on the wall.\n",
      "\n",
      "91 bottles of beer on the wall, 91 bottles of beer.\n",
      "Take one down and pass it around, 90 bottles of beer on the wall.\n",
      "\n",
      "90 bottles of beer on the wall, 90 bottles of beer.\n",
      "Take one down and pass it around, 89 bottles of beer on the wall.\n",
      "\n",
      "89 bottles of beer on the wall, 89 bottles of beer.\n",
      "Take one down and pass it around, 88 bottles of beer on the wall.\n",
      "\n",
      "88 bottles of beer on the wall, 88 bottles of beer.\n",
      "Take one down and pass it around, 87 bottles of beer on the wall.\n",
      "\n",
      "87 bottles of beer on the wall, 87 bottles of beer.\n",
      "Take one down and pass it around, 86 bottles of beer on the wall.\n",
      "\n",
      "86 bottles of beer on the wall, 86 bottles of beer.\n",
      "Take one down and pass it around, 85 bottles of beer on the wall.\n",
      "\n",
      "85 bottles of beer on the wall, 85 bottles of beer.\n",
      "Take one down and pass it around, 84 bottles of beer on the wall.\n",
      "\n",
      "84 bottles of beer on the wall, 84 bottles of beer.\n",
      "Take one down and pass it around, 83 bottles of beer on the wall.\n",
      "\n",
      "83 bottles of beer on the wall, 83 bottles of beer.\n",
      "Take one down and pass it around, 82 bottles of beer on the wall.\n",
      "\n",
      "82 bottles of beer on the wall, 82 bottles of beer.\n",
      "Take one down and pass it around, 81 bottles of beer on the wall.\n",
      "\n",
      "81 bottles of beer on the wall, 81 bottles of beer.\n",
      "Take one down and pass it around, 80 bottles of beer on the wall.\n",
      "\n",
      "80 bottles of beer on the wall, 80 bottles of beer.\n",
      "Take one down and pass it around, 79 bottles of beer on the wall.\n",
      "\n",
      "79 bottles of beer on the wall, 79 bottles of beer.\n",
      "Take one down and pass it around, 78 bottles of beer on the wall.\n",
      "\n",
      "78 bottles of beer on the wall, 78 bottles of beer.\n",
      "Take one down and pass it around, 77 bottles of beer on the wall.\n",
      "\n",
      "77 bottles of beer on the wall, 77 bottles of beer.\n",
      "Take one down and pass it around, 76 bottles of beer on the wall.\n",
      "\n",
      "76 bottles of beer on the wall, 76 bottles of beer.\n",
      "Take one down and pass it around, 75 bottles of beer on the wall.\n",
      "\n",
      "75 bottles of beer on the wall, 75 bottles of beer.\n",
      "Take one down and pass it around, 74 bottles of beer on the wall.\n",
      "\n",
      "74 bottles of beer on the wall, 74 bottles of beer.\n",
      "Take one down and pass it around, 73 bottles of beer on the wall.\n",
      "\n",
      "73 bottles of beer on the wall, 73 bottles of beer.\n",
      "Take one down and pass it around, 72 bottles of beer on the wall.\n",
      "\n",
      "72 bottles of beer on the wall, 72 bottles of beer.\n",
      "Take one down and pass it around, 71 bottles of beer on the wall.\n",
      "\n",
      "71 bottles of beer on the wall, 71 bottles of beer.\n",
      "Take one down and pass it around, 70 bottles of beer on the wall.\n",
      "\n",
      "70 bottles of beer on the wall, 70 bottles of beer.\n",
      "Take one down and pass it around, 69 bottles of beer on the wall.\n",
      "\n",
      "69 bottles of beer on the wall, 69 bottles of beer.\n",
      "Take one down and pass it around, 68 bottles of beer on the wall.\n",
      "\n",
      "68 bottles of beer on the wall, 68 bottles of beer.\n",
      "Take one down and pass it around, 67 bottles of beer on the wall.\n",
      "\n",
      "67 bottles of beer on the wall, 67 bottles of beer.\n",
      "Take one down and pass it around, 66 bottles of beer on the wall.\n",
      "\n",
      "66 bottles of beer on the wall, 66 bottles of beer.\n",
      "Take one down and pass it around, 65 bottles of beer on the wall.\n",
      "\n",
      "65 bottles of beer on the wall, 65 bottles of beer.\n",
      "Take one down and pass it around, 64 bottles of beer on the wall.\n",
      "\n",
      "64 bottles of beer on the wall, 64 bottles of beer.\n",
      "Take one down and pass it around, 63 bottles of beer on the wall.\n",
      "\n",
      "63 bottles of beer on the wall, 63 bottles of beer.\n",
      "Take one down and pass it around, 62 bottles of beer on the wall.\n",
      "\n",
      "62 bottles of beer on the wall, 62 bottles of beer.\n",
      "Take one down and pass it around, 61 bottles of beer on the wall.\n",
      "\n",
      "61 bottles of beer on the wall, 61 bottles of beer.\n",
      "Take one down and pass it around, 60 bottles of beer on the wall.\n",
      "\n",
      "60 bottles of beer on the wall, 60 bottles of beer.\n",
      "Take one down and pass it around, 59 bottles of beer on the wall.\n",
      "\n",
      "59 bottles of beer on the wall, 59 bottles of beer.\n",
      "Take one down and pass it around, 58 bottles of beer on the wall.\n",
      "\n",
      "58 bottles of beer on the wall, 58 bottles of beer.\n",
      "Take one down and pass it around, 57 bottles of beer on the wall.\n",
      "\n",
      "57 bottles of beer on the wall, 57 bottles of beer.\n",
      "Take one down and pass it around, 56 bottles of beer on the wall.\n",
      "\n",
      "56 bottles of beer on the wall, 56 bottles of beer.\n",
      "Take one down and pass it around, 55 bottles of beer on the wall.\n",
      "\n",
      "55 bottles of beer on the wall, 55 bottles of beer.\n",
      "Take one down and pass it around, 54 bottles of beer on the wall.\n",
      "\n",
      "54 bottles of beer on the wall, 54 bottles of beer.\n",
      "Take one down and pass it around, 53 bottles of beer on the wall.\n",
      "\n",
      "53 bottles of beer on the wall, 53 bottles of beer.\n",
      "Take one down and pass it around, 52 bottles of beer on the wall.\n",
      "\n",
      "52 bottles of beer on the wall, 52 bottles of beer.\n",
      "Take one down and pass it around, 51 bottles of beer on the wall.\n",
      "\n",
      "51 bottles of beer on the wall, 51 bottles of beer.\n",
      "Take one down and pass it around, 50 bottles of beer on the wall.\n",
      "\n",
      "50 bottles of beer on the wall, 50 bottles of beer.\n",
      "Take one down and pass it around, 49 bottles of beer on the wall.\n",
      "\n",
      "49 bottles of beer on the wall, 49 bottles of beer.\n",
      "Take one down and pass it around, 48 bottles of beer on the wall.\n",
      "\n",
      "48 bottles of beer on the wall, 48 bottles of beer.\n",
      "Take one down and pass it around, 47 bottles of beer on the wall.\n",
      "\n",
      "47 bottles of beer on the wall, 47 bottles of beer.\n",
      "Take one down and pass it around, 46 bottles of beer on the wall.\n",
      "\n",
      "46 bottles of beer on the wall, 46 bottles of beer.\n",
      "Take one down and pass it around, 45 bottles of beer on the wall.\n",
      "\n",
      "45 bottles of beer on the wall, 45 bottles of beer.\n",
      "Take one down and pass it around, 44 bottles of beer on the wall.\n",
      "\n",
      "44 bottles of beer on the wall, 44 bottles of beer.\n",
      "Take one down and pass it around, 43 bottles of beer on the wall.\n",
      "\n",
      "43 bottles of beer on the wall, 43 bottles of beer.\n",
      "Take one down and pass it around, 42 bottles of beer on the wall.\n",
      "\n",
      "42 bottles of beer on the wall, 42 bottles of beer.\n",
      "Take one down and pass it around, 41 bottles of beer on the wall.\n",
      "\n",
      "41 bottles of beer on the wall, 41 bottles of beer.\n",
      "Take one down and pass it around, 40 bottles of beer on the wall.\n",
      "\n",
      "40 bottles of beer on the wall, 40 bottles of beer.\n",
      "Take one down and pass it around, 39 bottles of beer on the wall.\n",
      "\n",
      "39 bottles of beer on the wall, 39 bottles of beer.\n",
      "Take one down and pass it around, 38 bottles of beer on the wall.\n",
      "\n",
      "38 bottles of beer on the wall, 38 bottles of beer.\n",
      "Take one down and pass it around, 37 bottles of beer on the wall.\n",
      "\n",
      "37 bottles of beer on the wall, 37 bottles of beer.\n",
      "Take one down and pass it around, 36 bottles of beer on the wall.\n",
      "\n",
      "36 bottles of beer on the wall, 36 bottles of beer.\n",
      "Take one down and pass it around, 35 bottles of beer on the wall.\n",
      "\n",
      "35 bottles of beer on the wall, 35 bottles of beer.\n",
      "Take one down and pass it around, 34 bottles of beer on the wall.\n",
      "\n",
      "34 bottles of beer on the wall, 34 bottles of beer.\n",
      "Take one down and pass it around, 33 bottles of beer on the wall.\n",
      "\n",
      "33 bottles of beer on the wall, 33 bottles of beer.\n",
      "Take one down and pass it around, 32 bottles of beer on the wall.\n",
      "\n",
      "32 bottles of beer on the wall, 32 bottles of beer.\n",
      "Take one down and pass it around, 31 bottles of beer on the wall.\n",
      "\n",
      "31 bottles of beer on the wall, 31 bottles of beer.\n",
      "Take one down and pass it around, 30 bottles of beer on the wall.\n",
      "\n",
      "30 bottles of beer on the wall, 30 bottles of beer.\n",
      "Take one down and pass it around, 29 bottles of beer on the wall.\n",
      "\n",
      "29 bottles of beer on the wall, 29 bottles of beer.\n",
      "Take one down and pass it around, 28 bottles of beer on the wall.\n",
      "\n",
      "28 bottles of beer on the wall, 28 bottles of beer.\n",
      "Take one down and pass it around, 27 bottles of beer on the wall.\n",
      "\n",
      "27 bottles of beer on the wall, 27 bottles of beer.\n",
      "Take one down and pass it around, 26 bottles of beer on the wall.\n",
      "\n",
      "26 bottles of beer on the wall, 26 bottles of beer.\n",
      "Take one down and pass it around, 25 bottles of beer on the wall.\n",
      "\n",
      "25 bottles of beer on the wall, 25 bottles of beer.\n",
      "Take one down and pass it around, 24 bottles of beer on the wall.\n",
      "\n",
      "24 bottles of beer on the wall, 24 bottles of beer.\n",
      "Take one down and pass it around, 23 bottles of beer on the wall.\n",
      "\n",
      "23 bottles of beer on the wall, 23 bottles of beer.\n",
      "Take one down and pass it around, 22 bottles of beer on the wall.\n",
      "\n",
      "22 bottles of beer on the wall, 22 bottles of beer.\n",
      "Take one down and pass it around, 21 bottles of beer on the wall.\n",
      "\n",
      "21 bottles of beer on the wall, 21 bottles of beer.\n",
      "Take one down and pass it around, 20 bottles of beer on the wall.\n",
      "\n",
      "20 bottles of beer on the wall, 20 bottles of beer.\n",
      "Take one down and pass it around, 19 bottles of beer on the wall.\n",
      "\n",
      "19 bottles of beer on the wall, 19 bottles of beer.\n",
      "Take one down and pass it around, 18 bottles of beer on the wall.\n",
      "\n",
      "18 bottles of beer on the wall, 18 bottles of beer.\n",
      "Take one down and pass it around, 17 bottles of beer on the wall.\n",
      "\n",
      "17 bottles of beer on the wall, 17 bottles of beer.\n",
      "Take one down and pass it around, 16 bottles of beer on the wall.\n",
      "\n",
      "16 bottles of beer on the wall, 16 bottles of beer.\n",
      "Take one down and pass it around, 15 bottles of beer on the wall.\n",
      "\n",
      "15 bottles of beer on the wall, 15 bottles of beer.\n",
      "Take one down and pass it around, 14 bottles of beer on the wall.\n",
      "\n",
      "14 bottles of beer on the wall, 14 bottles of beer.\n",
      "Take one down and pass it around, 13 bottles of beer on the wall.\n",
      "\n",
      "13 bottles of beer on the wall, 13 bottles of beer.\n",
      "Take one down and pass it around, 12 bottles of beer on the wall.\n",
      "\n",
      "12 bottles of beer on the wall, 12 bottles of beer.\n",
      "Take one down and pass it around, 11 bottles of beer on the wall.\n",
      "\n",
      "11 bottles of beer on the wall, 11 bottles of beer.\n",
      "Take one down and pass it around, 10 bottles of beer on the wall.\n",
      "\n",
      "10 bottles of beer on the wall, 10 bottles of beer.\n",
      "Take one down and pass it around, 9 bottles of beer on the wall.\n",
      "\n",
      "9 bottles of beer on the wall, 9 bottles of beer.\n",
      "Take one down and pass it around, 8 bottles of beer on the wall.\n",
      "\n",
      "8 bottles of beer on the wall, 8 bottles of beer.\n",
      "Take one down and pass it around, 7 bottles of beer on the wall.\n",
      "\n",
      "7 bottles of beer on the wall, 7 bottles of beer.\n",
      "Take one down and pass it around, 6 bottles of beer on the wall.\n",
      "\n",
      "6 bottles of beer on the wall, 6 bottles of beer.\n",
      "Take one down and pass it around, 5 bottles of beer on the wall.\n",
      "\n",
      "5 bottles of beer on the wall, 5 bottles of beer.\n",
      "Take one down and pass it around, 4 bottles of beer on the wall.\n",
      "\n",
      "4 bottles of beer on the wall, 4 bottles of beer.\n",
      "Take one down and pass it around, 3 bottles of beer on the wall.\n",
      "\n",
      "3 bottles of beer on the wall, 3 bottles of beer.\n",
      "Take one down and pass it around, 2 bottles of beer on the wall.\n",
      "\n",
      "2 bottles of beer on the wall, 2 bottles of beer.\n",
      "Take one down and pass it around, 1 bottle of beer on the wall.\n",
      "\n",
      "1 bottle of beer on the wall, 1 bottle of beer.\n",
      "Take one down and pass it around, no more bottles of beer on the wall.\n",
      "\n",
      "No more bottles of beer on the wall, no more bottles of beer.\n",
      "Go to the store and buy some more, 99 bottles of beer on the wall.\n",
      "\n"
     ]
    }
   ],
   "source": [
    "## Answer here....\n",
    "\n",
    "# Dont copy paste the text as str.. please...\n",
    "\n",
    "last_few_lines = \"\"\"2 bottles of beer on the wall, 2 bottles of beer.\n",
    "Take one down and pass it around, 1 bottle of beer on the wall.\n",
    "\n",
    "1 bottle of beer on the wall, 1 bottle of beer.\n",
    "Take one down and pass it around, no more bottles of beer on the wall.\n",
    "\n",
    "No more bottles of beer on the wall, no more bottles of beer.\n",
    "Go to the store and buy some more, 99 bottles of beer on the wall.\n",
    "\"\"\"\n",
    "\n",
    "for num in range(99,2,-1):\n",
    "    line = f\"\"\"{num} bottles of beer on the wall, {num} bottles of beer.\n",
    "Take one down and pass it around, {num-1} bottles of beer on the wall.\n",
    "\"\"\"    \n",
    "    print(line)\n",
    "print(last_few_lines)"
   ]
  },
  {
   "cell_type": "code",
   "execution_count": null,
   "metadata": {},
   "outputs": [],
   "source": []
  }
 ],
 "metadata": {
  "colab": {
   "collapsed_sections": [],
   "name": "Module 0 - Python foundation workshop.ipynb",
   "provenance": []
  },
  "kernelspec": {
   "display_name": "Python 3",
   "language": "python",
   "name": "python3"
  },
  "language_info": {
   "codemirror_mode": {
    "name": "ipython",
    "version": 3
   },
   "file_extension": ".py",
   "mimetype": "text/x-python",
   "name": "python",
   "nbconvert_exporter": "python",
   "pygments_lexer": "ipython3",
   "version": "3.7.3"
  }
 },
 "nbformat": 4,
 "nbformat_minor": 1
}
