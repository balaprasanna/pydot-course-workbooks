{
 "cells": [
  {
   "cell_type": "markdown",
   "metadata": {},
   "source": [
    "## Agenda for day 4\n",
    "\n",
    "\n",
    "---\n",
    "\n",
    "1. API Introduction\n",
    "    - Understanding Web Applications / Request - Response Protocols...\n",
    "    - Understanding URLS\n",
    "        - http://api.openweathermap.org/data/2.5/weather?APPID=1020334324&q=malaysia\n",
    "        - https://www.xe.com/currencyconverter/convert/?Amount=1&From=EUR&To=SGD\n",
    "    - Differentiate static vs dynamic vs API from URL\n",
    "   \n",
    "---\n",
    "2. Http Web server\n",
    "    - python -m http.server 8000\n",
    "    \n",
    "3. How to build an API with python (More for learning/understanding purpose...)\n",
    "    - Flask API\n",
    " \n",
    "---\n",
    "4. Workshop solution\n",
    "\n",
    "--- \n",
    "5. Extending the workshop to save info into Mongo db\n",
    "    - pymongo\n",
    "--- \n",
    "6. Optional\n",
    "    - Installing selenium and chrome driver setup"
   ]
  },
  {
   "cell_type": "markdown",
   "metadata": {},
   "source": [
    "## Quiz 1"
   ]
  },
  {
   "cell_type": "code",
   "execution_count": null,
   "metadata": {},
   "outputs": [],
   "source": [
    "# \"http://api.openweathermap.org/data/2.5/weather?APPID=8a81d247d650cb16469c4ba3ceb7d265&q=clementi\"\n",
    "\n",
    "# 1. Parse the url\n",
    "# 2. Decide if its a website or an API\n",
    "# 3. Type of the Resonse content"
   ]
  },
  {
   "cell_type": "code",
   "execution_count": null,
   "metadata": {},
   "outputs": [],
   "source": []
  },
  {
   "cell_type": "code",
   "execution_count": null,
   "metadata": {},
   "outputs": [],
   "source": []
  },
  {
   "cell_type": "code",
   "execution_count": null,
   "metadata": {},
   "outputs": [],
   "source": [
    "https://api.openweathermap.org/data/2.5/weather?APPID=8a81d247d650cb16469c4ba3ceb7d265&q=clementi\n",
    "    \n",
    "https:// - scheme - protocol\n",
    "    \n",
    "    api.openweathermap.org - domain name\n",
    "    138.201.197.100    :     443\n",
    "    138.201.197.100\n",
    "    192.168.3.113\n",
    "    \n",
    "    domain-name -> ip address --> bound to a machine"
   ]
  },
  {
   "cell_type": "markdown",
   "metadata": {},
   "source": [
    "## Parsing url for understanding"
   ]
  },
  {
   "cell_type": "code",
   "execution_count": null,
   "metadata": {},
   "outputs": [],
   "source": [
    "https://min-api.cryptocompare.com/data/price?fsym=BTC&tsyms=USD,JPY,EUR\n",
    "    \n",
    "    \n",
    "scheme: https\n",
    "port:   443\n",
    "domain: min-api.cryptocompare.com\n",
    "ip :   40.115.22.134:443 \n",
    "path-route : /data/price\n",
    "Query param:\n",
    "    1. fsym=BTC\n",
    "    2. tsyms=USD,JPY,EUR"
   ]
  },
  {
   "cell_type": "code",
   "execution_count": null,
   "metadata": {},
   "outputs": [],
   "source": [
    "https://www.xe.com/currencyconverter/convert/?Amount=1&From=EUR&To=SGD\n",
    "    \n",
    "scheme: https\n",
    "port:   443\n",
    "domain: www.xe.com\n",
    "ip :   13.35.19.55:443\n",
    "path-route : /currencyconverter/convert/\n",
    "Query param: ?Amount=1&From=EUR&To=SGD \n",
    "    1. Amount=1\n",
    "    2. From=EUR,\n",
    "    3. To=SGD"
   ]
  },
  {
   "cell_type": "code",
   "execution_count": null,
   "metadata": {},
   "outputs": [],
   "source": [
    "https://\n",
    "    min-api.cryptocompare.com\n",
    "    /data/price\n",
    "    ?\n",
    "    fsym=BTC\n",
    "    &\n",
    "    tsyms=USD,JPY,EUR"
   ]
  },
  {
   "cell_type": "code",
   "execution_count": null,
   "metadata": {},
   "outputs": [],
   "source": [
    "https://\n",
    "    www.xe.com - domain:443\n",
    "    /currencyconverter/convert/\n",
    "    ? - query parameter\n",
    "    Amount=1\n",
    "    &\n",
    "    From=EUR\n",
    "    &\n",
    "    To=SGD #route"
   ]
  },
  {
   "cell_type": "code",
   "execution_count": null,
   "metadata": {},
   "outputs": [],
   "source": [
    "# API server\n",
    "# Req ------------------ Respose (JSON)"
   ]
  },
  {
   "cell_type": "code",
   "execution_count": 4,
   "metadata": {},
   "outputs": [],
   "source": [
    "# parse the following...\n",
    "# http://localhost:5000/calculator?a=10&b=20&ops=+\n",
    "# http://localhost:5000/history?limit=5\n",
    "# http://192.168.3.113:9000/<message>\n",
    "# http://192.168.3.113:9000/<path>\n",
    "# http://192.168.3.113:9000/<route>    \n",
    "# http://192.168.3.113:9000/secret/password.json\n",
    "# http://192.168.3.113:9000/hello.txt\n",
    "# http://www.pythontutor.com/visualize.html#mode=edit"
   ]
  },
  {
   "cell_type": "code",
   "execution_count": 3,
   "metadata": {},
   "outputs": [],
   "source": [
    "\n",
    "\n",
    "# local[192.168.3.113]                                     - remote-server[138.201.197.100]\n",
    "# chrome                                                           - webserver (program) - port (443)\n",
    "# terminal app                                                     - mail-server (program)\n",
    "# chrome 1 (url) ---------------------------------------------------"
   ]
  },
  {
   "cell_type": "code",
   "execution_count": 5,
   "metadata": {},
   "outputs": [],
   "source": [
    "# port ranges - [0 - 2^16]\n",
    "#     - 0 - 1024 (well known ports)\n",
    "    #     - ssh       - 22\n",
    "    #     - mail-smpt -25\n",
    "    #     - http      - 80\n",
    "    #     - https     -443\n",
    "#  - 1204 - (2^16)/2\n",
    "    #     - application specific\n",
    "    #     - mongodb - 27017"
   ]
  },
  {
   "cell_type": "code",
   "execution_count": 6,
   "metadata": {},
   "outputs": [],
   "source": [
    "# ip - addr ranges\n",
    "# public \n",
    "#     - ***\n",
    "# private\n",
    "#     - 192...\n",
    "#     - 10....\n",
    "#     - 172....\n",
    "# localhost\n",
    "#     - 127.0.0.1"
   ]
  },
  {
   "cell_type": "code",
   "execution_count": null,
   "metadata": {},
   "outputs": [],
   "source": []
  },
  {
   "cell_type": "markdown",
   "metadata": {},
   "source": [
    "## Workshop solution"
   ]
  },
  {
   "cell_type": "code",
   "execution_count": null,
   "metadata": {},
   "outputs": [],
   "source": [
    "# code here\n",
    "import time,csv,psutil\n",
    "from datetime import datetime\n",
    "SECONDS = 5\n",
    "\n",
    "def collect_metrics(): \n",
    "    \"\"\" collect some cpu,mem: returns (cpu,mem,timestamp)\"\"\"\n",
    "    cpu = psutil.cpu_percent()\n",
    "    mem = psutil.virtual_memory().percent\n",
    "    timestamp = str(datetime.now())\n",
    "    return (cpu,mem,timestamp)\n",
    "\n",
    "def save_metrics_to_csv(row):\n",
    "    with open(\"cpu_mem.csv\", mode=\"a\", encoding=\"utf-8\", newline=\"\") as f:\n",
    "        #f.write( f\"{row[0]},{row[1]},{row[2]}\\n\" )\n",
    "        csv_writer = csv.writer(f)\n",
    "        csv_writer.writerow( row )  #(10.0, 47.0, '2020-01-09 11:12:29.653927')\n",
    "    print(\"Saved \",row)\n",
    "\n",
    "def check_if_the_file_has_header():\n",
    "    with open(\"cpu_mem.csv\") as f:\n",
    "        if f.read().strip() == \"\": return False\n",
    "        else:                      return True\n",
    "\n",
    "if not check_if_the_file_has_header(): save_metrics_to_csv([\"cpu\",\"mem\",\"timestamp\"])\n",
    "    \n",
    "while True:\n",
    "    try:\n",
    "        row_tpl = collect_metrics() #(10.0, 47.0, '2020-01-09 11:12:29.653927')\n",
    "        save_metrics_to_csv(row_tpl)\n",
    "        time.sleep(SECONDS)\n",
    "    except KeyboardInterrupt:\n",
    "        print(\"Shutting down gracefully...\")\n",
    "        break"
   ]
  },
  {
   "cell_type": "code",
   "execution_count": null,
   "metadata": {},
   "outputs": [],
   "source": []
  },
  {
   "cell_type": "markdown",
   "metadata": {},
   "source": [
    "## Optinally, use a scheduler\n",
    "`pip install schedule`"
   ]
  },
  {
   "cell_type": "code",
   "execution_count": null,
   "metadata": {},
   "outputs": [],
   "source": [
    "# import schedule\n",
    "# import time\n",
    "\n",
    "# def job():\n",
    "#     print(\"I'm working...\")\n",
    "\n",
    "# schedule.every(2).seconds.do(job)\n",
    "# # schedule.every().hour.do(job)\n",
    "# # schedule.every().day.at(\"10:30\").do(job)\n",
    "# # schedule.every().monday.do(job)\n",
    "# # schedule.every().wednesday.at(\"13:15\").do(job)\n",
    "# # schedule.every().minute.at(\":17\").do(job)\n",
    "\n",
    "# while True:\n",
    "#     schedule.run_pending()\n",
    "#     time.sleep(1)"
   ]
  },
  {
   "cell_type": "code",
   "execution_count": null,
   "metadata": {},
   "outputs": [],
   "source": []
  },
  {
   "cell_type": "markdown",
   "metadata": {},
   "source": [
    "## Test your Mongodb Installation"
   ]
  },
  {
   "cell_type": "markdown",
   "metadata": {},
   "source": [
    "1. `pip install pymongo`\n",
    "2. `pip install dnspython`"
   ]
  },
  {
   "cell_type": "code",
   "execution_count": null,
   "metadata": {},
   "outputs": [],
   "source": []
  },
  {
   "cell_type": "markdown",
   "metadata": {},
   "source": [
    "## https://api.mongodb.com/python/current/tutorial.html"
   ]
  },
  {
   "cell_type": "code",
   "execution_count": null,
   "metadata": {},
   "outputs": [],
   "source": []
  },
  {
   "cell_type": "markdown",
   "metadata": {},
   "source": [
    "## Insert Data into Mongodb with the following requirement"
   ]
  },
  {
   "attachments": {
    "image.png": {
     "image/png": "[encoded data removed]"
    }
   },
   "cell_type": "markdown",
   "metadata": {},
   "source": [
    "![image.png](attachment:image.png)"
   ]
  },
  {
   "cell_type": "code",
   "execution_count": 17,
   "metadata": {},
   "outputs": [],
   "source": [
    "import psutil\n",
    "from datetime import datetime"
   ]
  },
  {
   "cell_type": "code",
   "execution_count": 94,
   "metadata": {},
   "outputs": [
    {
     "data": {
      "text/plain": [
       "<pymongo.results.InsertOneResult at 0x1c0bb249088>"
      ]
     },
     "execution_count": 94,
     "metadata": {},
     "output_type": "execute_result"
    }
   ],
   "source": [
    "#code here...\n",
    "from pymongo import MongoClient\n",
    "\n",
    "# get the mongo client object\n",
    "client = MongoClient(\"192.168.3.113:27017\")\n",
    "# get the database\n",
    "db = client[\"metricsdb\"]\n",
    "# get the collection\n",
    "cpumem_collection = db[\"cpumem_collection\"]\n",
    "\n",
    "# prepare the document to be saved to mongodb\n",
    "doc = {\n",
    "    \"cpu\": psutil.cpu_percent(),\n",
    "    \"mem\": psutil.virtual_memory().percent,\n",
    "    \"name\": \"bala's machine\",\n",
    "    \"ip_address\": \"192.168.3.113\",\n",
    "    \"timestamp\": str(datetime.now())\n",
    "}\n",
    "# insert the document into the database\n",
    "cpumem_collection.insert_one( doc )"
   ]
  },
  {
   "cell_type": "markdown",
   "metadata": {},
   "source": [
    "## Query the db"
   ]
  },
  {
   "cell_type": "code",
   "execution_count": 41,
   "metadata": {},
   "outputs": [
    {
     "data": {
      "text/plain": [
       "'cpumem_collection'"
      ]
     },
     "execution_count": 41,
     "metadata": {},
     "output_type": "execute_result"
    }
   ],
   "source": [
    "cpumem_collection.name"
   ]
  },
  {
   "cell_type": "code",
   "execution_count": 47,
   "metadata": {},
   "outputs": [
    {
     "data": {
      "text/plain": [
       "2251"
      ]
     },
     "execution_count": 47,
     "metadata": {},
     "output_type": "execute_result"
    }
   ],
   "source": [
    "cpumem_collection.count_documents( {} )"
   ]
  },
  {
   "cell_type": "markdown",
   "metadata": {},
   "source": [
    "## Query exact match"
   ]
  },
  {
   "cell_type": "code",
   "execution_count": 62,
   "metadata": {},
   "outputs": [],
   "source": [
    "rows = list(cpumem_collection.find({\n",
    "    \"name\": \"bala's machine\"\n",
    "}))"
   ]
  },
  {
   "cell_type": "markdown",
   "metadata": {},
   "source": [
    "## Query with gt >"
   ]
  },
  {
   "cell_type": "code",
   "execution_count": 64,
   "metadata": {},
   "outputs": [],
   "source": [
    "rows = list(cpumem_collection.find({\"mem\": {\"$gt\": 70}}))"
   ]
  },
  {
   "cell_type": "markdown",
   "metadata": {},
   "source": [
    "## show rows in dataframe"
   ]
  },
  {
   "cell_type": "code",
   "execution_count": 68,
   "metadata": {},
   "outputs": [
    {
     "data": {
      "text/html": [
       "<div>\n",
       "<style scoped>\n",
       "    .dataframe tbody tr th:only-of-type {\n",
       "        vertical-align: middle;\n",
       "    }\n",
       "\n",
       "    .dataframe tbody tr th {\n",
       "        vertical-align: top;\n",
       "    }\n",
       "\n",
       "    .dataframe thead th {\n",
       "        text-align: right;\n",
       "    }\n",
       "</style>\n",
       "<table border=\"1\" class=\"dataframe\">\n",
       "  <thead>\n",
       "    <tr style=\"text-align: right;\">\n",
       "      <th></th>\n",
       "      <th>_id</th>\n",
       "      <th>cpu</th>\n",
       "      <th>ip address</th>\n",
       "      <th>ip_address</th>\n",
       "      <th>mem</th>\n",
       "      <th>name</th>\n",
       "      <th>timestamp</th>\n",
       "      <th>timestramp</th>\n",
       "    </tr>\n",
       "  </thead>\n",
       "  <tbody>\n",
       "    <tr>\n",
       "      <th>0</th>\n",
       "      <td>5e16c4873b9b671fe0bd45f0</td>\n",
       "      <td>23.5</td>\n",
       "      <td>NaN</td>\n",
       "      <td>192.168.3.113</td>\n",
       "      <td>51.3</td>\n",
       "      <td>bala's machine</td>\n",
       "      <td>2020-01-09 14:13:27.152949</td>\n",
       "      <td>NaN</td>\n",
       "    </tr>\n",
       "    <tr>\n",
       "      <th>1</th>\n",
       "      <td>5e16c4b39fd177f755724302</td>\n",
       "      <td>1.7</td>\n",
       "      <td>NaN</td>\n",
       "      <td>192.168.3.98</td>\n",
       "      <td>48.6</td>\n",
       "      <td>bh's machine</td>\n",
       "      <td>2020-01-09 14:14:11.710962</td>\n",
       "      <td>NaN</td>\n",
       "    </tr>\n",
       "    <tr>\n",
       "      <th>2</th>\n",
       "      <td>5e16c4ce9cb62de6302a41b4</td>\n",
       "      <td>13.8</td>\n",
       "      <td>NaN</td>\n",
       "      <td>127.0.0.1</td>\n",
       "      <td>53.3</td>\n",
       "      <td>NaN</td>\n",
       "      <td>2020-01-09 14:14:38.122914</td>\n",
       "      <td>NaN</td>\n",
       "    </tr>\n",
       "    <tr>\n",
       "      <th>3</th>\n",
       "      <td>5e16c4cd6fe8ef21d5db36ec</td>\n",
       "      <td>10.8</td>\n",
       "      <td>NaN</td>\n",
       "      <td>192.168.3.113</td>\n",
       "      <td>45.8</td>\n",
       "      <td>jeryl's machine</td>\n",
       "      <td>2020-01-09 14:14:37.779777</td>\n",
       "      <td>NaN</td>\n",
       "    </tr>\n",
       "    <tr>\n",
       "      <th>4</th>\n",
       "      <td>5e16c4dc184685955f26b8f2</td>\n",
       "      <td>1.8</td>\n",
       "      <td>NaN</td>\n",
       "      <td>192.168.3.113</td>\n",
       "      <td>40.8</td>\n",
       "      <td>bala's machine</td>\n",
       "      <td>2020-01-09 14:14:52.162330</td>\n",
       "      <td>NaN</td>\n",
       "    </tr>\n",
       "  </tbody>\n",
       "</table>\n",
       "</div>"
      ],
      "text/plain": [
       "                        _id   cpu ip address     ip_address   mem  \\\n",
       "0  5e16c4873b9b671fe0bd45f0  23.5        NaN  192.168.3.113  51.3   \n",
       "1  5e16c4b39fd177f755724302   1.7        NaN   192.168.3.98  48.6   \n",
       "2  5e16c4ce9cb62de6302a41b4  13.8        NaN      127.0.0.1  53.3   \n",
       "3  5e16c4cd6fe8ef21d5db36ec  10.8        NaN  192.168.3.113  45.8   \n",
       "4  5e16c4dc184685955f26b8f2   1.8        NaN  192.168.3.113  40.8   \n",
       "\n",
       "              name                   timestamp timestramp  \n",
       "0   bala's machine  2020-01-09 14:13:27.152949        NaN  \n",
       "1     bh's machine  2020-01-09 14:14:11.710962        NaN  \n",
       "2              NaN  2020-01-09 14:14:38.122914        NaN  \n",
       "3  jeryl's machine  2020-01-09 14:14:37.779777        NaN  \n",
       "4   bala's machine  2020-01-09 14:14:52.162330        NaN  "
      ]
     },
     "execution_count": 68,
     "metadata": {},
     "output_type": "execute_result"
    }
   ],
   "source": [
    "import pandas as pd\n",
    "rows = list(cpumem_collection.find())\n",
    "df = pd.DataFrame(rows)\n",
    "df.head()"
   ]
  },
  {
   "cell_type": "code",
   "execution_count": null,
   "metadata": {},
   "outputs": [],
   "source": []
  },
  {
   "cell_type": "markdown",
   "metadata": {},
   "source": [
    "## Delete or Modify"
   ]
  },
  {
   "cell_type": "code",
   "execution_count": 73,
   "metadata": {},
   "outputs": [
    {
     "data": {
      "text/plain": [
       "<pymongo.results.DeleteResult at 0x1c0bc4bb988>"
      ]
     },
     "execution_count": 73,
     "metadata": {},
     "output_type": "execute_result"
    }
   ],
   "source": [
    "cpumem_collection.delete_one({\n",
    "    \"_id\": \"5e16c4b39fd177f755724302\"\n",
    "})"
   ]
  },
  {
   "cell_type": "markdown",
   "metadata": {},
   "source": [
    "## Delete many"
   ]
  },
  {
   "cell_type": "code",
   "execution_count": 83,
   "metadata": {},
   "outputs": [
    {
     "data": {
      "text/plain": [
       "<pymongo.results.DeleteResult at 0x1c0bc9dfc08>"
      ]
     },
     "execution_count": 83,
     "metadata": {},
     "output_type": "execute_result"
    }
   ],
   "source": [
    "cpumem_collection.delete_many({\n",
    "    \"name\": \"super mario\"\n",
    "})"
   ]
  },
  {
   "cell_type": "markdown",
   "metadata": {},
   "source": [
    "## Delete records, which have name like \"%machine%\""
   ]
  },
  {
   "cell_type": "code",
   "execution_count": 103,
   "metadata": {},
   "outputs": [
    {
     "data": {
      "text/plain": [
       "<pymongo.results.DeleteResult at 0x1c0b8077888>"
      ]
     },
     "execution_count": 103,
     "metadata": {},
     "output_type": "execute_result"
    }
   ],
   "source": [
    "cpumem_collection.delete_many({\n",
    "    \"name\": \"/.*machine.*/\"\n",
    "})"
   ]
  },
  {
   "cell_type": "markdown",
   "metadata": {},
   "source": [
    "## modify"
   ]
  },
  {
   "cell_type": "code",
   "execution_count": 110,
   "metadata": {},
   "outputs": [
    {
     "name": "stderr",
     "output_type": "stream",
     "text": [
      "C:\\Users\\balap\\Anaconda3\\lib\\site-packages\\ipykernel_launcher.py:4: DeprecationWarning: find_and_modify is deprecated, use find_one_and_delete, find_one_and_replace, or find_one_and_update instead\n",
      "  after removing the cwd from sys.path.\n"
     ]
    },
    {
     "data": {
      "text/plain": [
       "{'_id': ObjectId('5e16cc4ff699b190a4e7e8cb'),\n",
       " 'cpu': 5.7,\n",
       " 'mem': 75.1,\n",
       " 'name': 'break',\n",
       " 'ip_address': '192.168.3.80',\n",
       " 'timestamp': '2020-01-09 14:46:39.125260'}"
      ]
     },
     "execution_count": 110,
     "metadata": {},
     "output_type": "execute_result"
    }
   ],
   "source": [
    "cpumem_collection.find_and_modify( query={\n",
    "    \"name\": \"break\"\n",
    "}, update={\n",
    "    \"name\":\"okay, lets take a break\"\n",
    "})"
   ]
  },
  {
   "cell_type": "code",
   "execution_count": 111,
   "metadata": {},
   "outputs": [
    {
     "data": {
      "text/html": [
       "<div>\n",
       "<style scoped>\n",
       "    .dataframe tbody tr th:only-of-type {\n",
       "        vertical-align: middle;\n",
       "    }\n",
       "\n",
       "    .dataframe tbody tr th {\n",
       "        vertical-align: top;\n",
       "    }\n",
       "\n",
       "    .dataframe thead th {\n",
       "        text-align: right;\n",
       "    }\n",
       "</style>\n",
       "<table border=\"1\" class=\"dataframe\">\n",
       "  <thead>\n",
       "    <tr style=\"text-align: right;\">\n",
       "      <th></th>\n",
       "      <th>_id</th>\n",
       "      <th>cpu</th>\n",
       "      <th>ip_address</th>\n",
       "      <th>mem</th>\n",
       "      <th>name</th>\n",
       "      <th>timestamp</th>\n",
       "      <th>timestramp</th>\n",
       "    </tr>\n",
       "  </thead>\n",
       "  <tbody>\n",
       "    <tr>\n",
       "      <th>0</th>\n",
       "      <td>5e16cb5977553b02ef6ed303</td>\n",
       "      <td>1.5</td>\n",
       "      <td>192.168.3.98</td>\n",
       "      <td>49.2</td>\n",
       "      <td>Super mehhhrio</td>\n",
       "      <td>2020-01-09 14:42:33.229522</td>\n",
       "      <td>NaN</td>\n",
       "    </tr>\n",
       "    <tr>\n",
       "      <th>1</th>\n",
       "      <td>5e16cbd88adbc411cf9cbf11</td>\n",
       "      <td>7.6</td>\n",
       "      <td>192.168.3.99</td>\n",
       "      <td>71.1</td>\n",
       "      <td>Test1</td>\n",
       "      <td>2020-01-09 14:18:15.295646</td>\n",
       "      <td>NaN</td>\n",
       "    </tr>\n",
       "    <tr>\n",
       "      <th>2</th>\n",
       "      <td>5e16cbd88adbc411cf9cbf12</td>\n",
       "      <td>7.6</td>\n",
       "      <td>192.168.3.99</td>\n",
       "      <td>70.9</td>\n",
       "      <td>Test2</td>\n",
       "      <td>2020-01-09 14:18:16.300664</td>\n",
       "      <td>NaN</td>\n",
       "    </tr>\n",
       "    <tr>\n",
       "      <th>3</th>\n",
       "      <td>5e16cbd88adbc411cf9cbf13</td>\n",
       "      <td>9.3</td>\n",
       "      <td>192.168.3.99</td>\n",
       "      <td>70.9</td>\n",
       "      <td>Test3</td>\n",
       "      <td>2020-01-09 14:18:17.304143</td>\n",
       "      <td>NaN</td>\n",
       "    </tr>\n",
       "    <tr>\n",
       "      <th>4</th>\n",
       "      <td>5e16cbd88adbc411cf9cbf14</td>\n",
       "      <td>3.9</td>\n",
       "      <td>192.168.3.99</td>\n",
       "      <td>70.7</td>\n",
       "      <td>Test4</td>\n",
       "      <td>2020-01-09 14:18:18.307416</td>\n",
       "      <td>NaN</td>\n",
       "    </tr>\n",
       "    <tr>\n",
       "      <th>5</th>\n",
       "      <td>5e16cbd88adbc411cf9cbf15</td>\n",
       "      <td>2.0</td>\n",
       "      <td>192.168.3.99</td>\n",
       "      <td>70.7</td>\n",
       "      <td>Test5</td>\n",
       "      <td>2020-01-09 14:18:19.310941</td>\n",
       "      <td>NaN</td>\n",
       "    </tr>\n",
       "    <tr>\n",
       "      <th>6</th>\n",
       "      <td>5e16cbd88adbc411cf9cbf16</td>\n",
       "      <td>2.7</td>\n",
       "      <td>192.168.3.99</td>\n",
       "      <td>70.7</td>\n",
       "      <td>Test6</td>\n",
       "      <td>2020-01-09 14:18:20.314422</td>\n",
       "      <td>NaN</td>\n",
       "    </tr>\n",
       "    <tr>\n",
       "      <th>7</th>\n",
       "      <td>5e16cbd88adbc411cf9cbf17</td>\n",
       "      <td>1.5</td>\n",
       "      <td>192.168.3.99</td>\n",
       "      <td>70.6</td>\n",
       "      <td>Test7</td>\n",
       "      <td>2020-01-09 14:18:21.319134</td>\n",
       "      <td>NaN</td>\n",
       "    </tr>\n",
       "    <tr>\n",
       "      <th>8</th>\n",
       "      <td>5e16cbd88adbc411cf9cbf18</td>\n",
       "      <td>5.1</td>\n",
       "      <td>192.168.3.99</td>\n",
       "      <td>70.8</td>\n",
       "      <td>Test8</td>\n",
       "      <td>2020-01-09 14:18:22.325234</td>\n",
       "      <td>NaN</td>\n",
       "    </tr>\n",
       "    <tr>\n",
       "      <th>9</th>\n",
       "      <td>5e16cbd88adbc411cf9cbf19</td>\n",
       "      <td>3.5</td>\n",
       "      <td>192.168.3.99</td>\n",
       "      <td>70.4</td>\n",
       "      <td>Test9</td>\n",
       "      <td>2020-01-09 14:18:23.330959</td>\n",
       "      <td>NaN</td>\n",
       "    </tr>\n",
       "    <tr>\n",
       "      <th>10</th>\n",
       "      <td>5e16cbd88adbc411cf9cbf1a</td>\n",
       "      <td>1.6</td>\n",
       "      <td>192.168.3.99</td>\n",
       "      <td>70.4</td>\n",
       "      <td>Test10</td>\n",
       "      <td>2020-01-09 14:18:24.335252</td>\n",
       "      <td>NaN</td>\n",
       "    </tr>\n",
       "    <tr>\n",
       "      <th>11</th>\n",
       "      <td>5e16cbd88adbc411cf9cbf1b</td>\n",
       "      <td>2.0</td>\n",
       "      <td>192.168.3.99</td>\n",
       "      <td>70.4</td>\n",
       "      <td>Test11</td>\n",
       "      <td>2020-01-09 14:18:25.338337</td>\n",
       "      <td>NaN</td>\n",
       "    </tr>\n",
       "    <tr>\n",
       "      <th>12</th>\n",
       "      <td>5e16cbd88adbc411cf9cbf1c</td>\n",
       "      <td>5.1</td>\n",
       "      <td>192.168.3.99</td>\n",
       "      <td>70.7</td>\n",
       "      <td>Test12</td>\n",
       "      <td>2020-01-09 14:18:26.342341</td>\n",
       "      <td>NaN</td>\n",
       "    </tr>\n",
       "    <tr>\n",
       "      <th>13</th>\n",
       "      <td>5e16cbd88adbc411cf9cbf1d</td>\n",
       "      <td>2.3</td>\n",
       "      <td>192.168.3.99</td>\n",
       "      <td>70.7</td>\n",
       "      <td>Test13</td>\n",
       "      <td>2020-01-09 14:18:27.347255</td>\n",
       "      <td>NaN</td>\n",
       "    </tr>\n",
       "    <tr>\n",
       "      <th>14</th>\n",
       "      <td>5e16cbd88adbc411cf9cbf1e</td>\n",
       "      <td>2.3</td>\n",
       "      <td>192.168.3.99</td>\n",
       "      <td>70.7</td>\n",
       "      <td>Test14</td>\n",
       "      <td>2020-01-09 14:18:28.351779</td>\n",
       "      <td>NaN</td>\n",
       "    </tr>\n",
       "    <tr>\n",
       "      <th>15</th>\n",
       "      <td>5e16cbd88adbc411cf9cbf1f</td>\n",
       "      <td>3.1</td>\n",
       "      <td>192.168.3.99</td>\n",
       "      <td>70.7</td>\n",
       "      <td>Test15</td>\n",
       "      <td>2020-01-09 14:18:29.356000</td>\n",
       "      <td>NaN</td>\n",
       "    </tr>\n",
       "    <tr>\n",
       "      <th>16</th>\n",
       "      <td>5e16cbd88adbc411cf9cbf20</td>\n",
       "      <td>3.5</td>\n",
       "      <td>192.168.3.99</td>\n",
       "      <td>70.7</td>\n",
       "      <td>Test16</td>\n",
       "      <td>2020-01-09 14:18:30.359395</td>\n",
       "      <td>NaN</td>\n",
       "    </tr>\n",
       "    <tr>\n",
       "      <th>17</th>\n",
       "      <td>5e16cbd88adbc411cf9cbf21</td>\n",
       "      <td>4.6</td>\n",
       "      <td>192.168.3.99</td>\n",
       "      <td>70.5</td>\n",
       "      <td>Test17</td>\n",
       "      <td>2020-01-09 14:18:31.363243</td>\n",
       "      <td>NaN</td>\n",
       "    </tr>\n",
       "    <tr>\n",
       "      <th>18</th>\n",
       "      <td>5e16cbd88adbc411cf9cbf22</td>\n",
       "      <td>3.1</td>\n",
       "      <td>192.168.3.99</td>\n",
       "      <td>70.4</td>\n",
       "      <td>Test18</td>\n",
       "      <td>2020-01-09 14:18:32.367478</td>\n",
       "      <td>NaN</td>\n",
       "    </tr>\n",
       "    <tr>\n",
       "      <th>19</th>\n",
       "      <td>5e16cbd88adbc411cf9cbf23</td>\n",
       "      <td>3.1</td>\n",
       "      <td>192.168.3.99</td>\n",
       "      <td>70.4</td>\n",
       "      <td>Test19</td>\n",
       "      <td>2020-01-09 14:18:33.371884</td>\n",
       "      <td>NaN</td>\n",
       "    </tr>\n",
       "    <tr>\n",
       "      <th>20</th>\n",
       "      <td>5e16cbd88adbc411cf9cbf24</td>\n",
       "      <td>7.4</td>\n",
       "      <td>192.168.3.99</td>\n",
       "      <td>70.4</td>\n",
       "      <td>Test20</td>\n",
       "      <td>2020-01-09 14:18:34.375492</td>\n",
       "      <td>NaN</td>\n",
       "    </tr>\n",
       "    <tr>\n",
       "      <th>21</th>\n",
       "      <td>5e16cbd88adbc411cf9cbf25</td>\n",
       "      <td>2.7</td>\n",
       "      <td>192.168.3.99</td>\n",
       "      <td>70.4</td>\n",
       "      <td>Test21</td>\n",
       "      <td>2020-01-09 14:18:35.380365</td>\n",
       "      <td>NaN</td>\n",
       "    </tr>\n",
       "    <tr>\n",
       "      <th>22</th>\n",
       "      <td>5e16cbd88adbc411cf9cbf26</td>\n",
       "      <td>5.9</td>\n",
       "      <td>192.168.3.99</td>\n",
       "      <td>70.7</td>\n",
       "      <td>Test22</td>\n",
       "      <td>2020-01-09 14:18:36.494571</td>\n",
       "      <td>NaN</td>\n",
       "    </tr>\n",
       "    <tr>\n",
       "      <th>23</th>\n",
       "      <td>5e16cbd88adbc411cf9cbf27</td>\n",
       "      <td>13.4</td>\n",
       "      <td>192.168.3.99</td>\n",
       "      <td>71.0</td>\n",
       "      <td>Test23</td>\n",
       "      <td>2020-01-09 14:18:37.499148</td>\n",
       "      <td>NaN</td>\n",
       "    </tr>\n",
       "    <tr>\n",
       "      <th>24</th>\n",
       "      <td>5e16cc32096cdb5482ccfc38</td>\n",
       "      <td>5.9</td>\n",
       "      <td>192.168.3.113</td>\n",
       "      <td>66.5</td>\n",
       "      <td>FBI</td>\n",
       "      <td>2020-01-09 14:46:10.266249</td>\n",
       "      <td>NaN</td>\n",
       "    </tr>\n",
       "    <tr>\n",
       "      <th>25</th>\n",
       "      <td>5e16cc33096cdb5482ccfc39</td>\n",
       "      <td>7.9</td>\n",
       "      <td>192.168.3.113</td>\n",
       "      <td>66.6</td>\n",
       "      <td>FBI</td>\n",
       "      <td>2020-01-09 14:46:11.337966</td>\n",
       "      <td>NaN</td>\n",
       "    </tr>\n",
       "    <tr>\n",
       "      <th>26</th>\n",
       "      <td>5e16cc34096cdb5482ccfc3a</td>\n",
       "      <td>12.5</td>\n",
       "      <td>192.168.3.113</td>\n",
       "      <td>66.6</td>\n",
       "      <td>FBI</td>\n",
       "      <td>2020-01-09 14:46:12.354580</td>\n",
       "      <td>NaN</td>\n",
       "    </tr>\n",
       "    <tr>\n",
       "      <th>27</th>\n",
       "      <td>5e16cc35096cdb5482ccfc3b</td>\n",
       "      <td>10.8</td>\n",
       "      <td>192.168.3.113</td>\n",
       "      <td>66.6</td>\n",
       "      <td>FBI</td>\n",
       "      <td>2020-01-09 14:46:13.366880</td>\n",
       "      <td>NaN</td>\n",
       "    </tr>\n",
       "    <tr>\n",
       "      <th>28</th>\n",
       "      <td>5e16cc36096cdb5482ccfc3c</td>\n",
       "      <td>11.6</td>\n",
       "      <td>192.168.3.113</td>\n",
       "      <td>66.6</td>\n",
       "      <td>FBI</td>\n",
       "      <td>2020-01-09 14:46:14.380239</td>\n",
       "      <td>NaN</td>\n",
       "    </tr>\n",
       "    <tr>\n",
       "      <th>29</th>\n",
       "      <td>5e16cc37096cdb5482ccfc3d</td>\n",
       "      <td>6.3</td>\n",
       "      <td>192.168.3.113</td>\n",
       "      <td>66.6</td>\n",
       "      <td>FBI</td>\n",
       "      <td>2020-01-09 14:46:15.398480</td>\n",
       "      <td>NaN</td>\n",
       "    </tr>\n",
       "    <tr>\n",
       "      <th>30</th>\n",
       "      <td>5e16cc38096cdb5482ccfc3e</td>\n",
       "      <td>3.8</td>\n",
       "      <td>192.168.3.113</td>\n",
       "      <td>66.6</td>\n",
       "      <td>FBI</td>\n",
       "      <td>2020-01-09 14:46:16.425177</td>\n",
       "      <td>NaN</td>\n",
       "    </tr>\n",
       "    <tr>\n",
       "      <th>31</th>\n",
       "      <td>5e16cc39096cdb5482ccfc3f</td>\n",
       "      <td>5.9</td>\n",
       "      <td>192.168.3.113</td>\n",
       "      <td>66.5</td>\n",
       "      <td>FBI</td>\n",
       "      <td>2020-01-09 14:46:17.446865</td>\n",
       "      <td>NaN</td>\n",
       "    </tr>\n",
       "    <tr>\n",
       "      <th>32</th>\n",
       "      <td>5e16cc3a096cdb5482ccfc40</td>\n",
       "      <td>2.8</td>\n",
       "      <td>192.168.3.113</td>\n",
       "      <td>66.5</td>\n",
       "      <td>FBI</td>\n",
       "      <td>2020-01-09 14:46:18.470720</td>\n",
       "      <td>NaN</td>\n",
       "    </tr>\n",
       "    <tr>\n",
       "      <th>33</th>\n",
       "      <td>5e16cc3b096cdb5482ccfc41</td>\n",
       "      <td>4.1</td>\n",
       "      <td>192.168.3.113</td>\n",
       "      <td>66.5</td>\n",
       "      <td>FBI</td>\n",
       "      <td>2020-01-09 14:46:19.495973</td>\n",
       "      <td>NaN</td>\n",
       "    </tr>\n",
       "    <tr>\n",
       "      <th>34</th>\n",
       "      <td>5e16cc3c096cdb5482ccfc42</td>\n",
       "      <td>5.7</td>\n",
       "      <td>192.168.3.113</td>\n",
       "      <td>66.6</td>\n",
       "      <td>FBI</td>\n",
       "      <td>2020-01-09 14:46:20.517222</td>\n",
       "      <td>NaN</td>\n",
       "    </tr>\n",
       "    <tr>\n",
       "      <th>35</th>\n",
       "      <td>5e16cc3d096cdb5482ccfc43</td>\n",
       "      <td>8.3</td>\n",
       "      <td>192.168.3.113</td>\n",
       "      <td>66.6</td>\n",
       "      <td>FBI</td>\n",
       "      <td>2020-01-09 14:46:21.541301</td>\n",
       "      <td>NaN</td>\n",
       "    </tr>\n",
       "    <tr>\n",
       "      <th>36</th>\n",
       "      <td>5e16cc3e096cdb5482ccfc44</td>\n",
       "      <td>9.1</td>\n",
       "      <td>192.168.3.113</td>\n",
       "      <td>66.6</td>\n",
       "      <td>FBI</td>\n",
       "      <td>2020-01-09 14:46:22.571271</td>\n",
       "      <td>NaN</td>\n",
       "    </tr>\n",
       "    <tr>\n",
       "      <th>37</th>\n",
       "      <td>5e16cc3f096cdb5482ccfc45</td>\n",
       "      <td>9.7</td>\n",
       "      <td>192.168.3.113</td>\n",
       "      <td>66.6</td>\n",
       "      <td>FBI</td>\n",
       "      <td>2020-01-09 14:46:23.588774</td>\n",
       "      <td>NaN</td>\n",
       "    </tr>\n",
       "    <tr>\n",
       "      <th>38</th>\n",
       "      <td>5e16cc4ff699b190a4e7e8cb</td>\n",
       "      <td>NaN</td>\n",
       "      <td>NaN</td>\n",
       "      <td>NaN</td>\n",
       "      <td>okay, lets take a break</td>\n",
       "      <td>NaN</td>\n",
       "      <td>NaN</td>\n",
       "    </tr>\n",
       "    <tr>\n",
       "      <th>39</th>\n",
       "      <td>5e16cc737f2d3610eeb3664e</td>\n",
       "      <td>16.9</td>\n",
       "      <td>192.168.3.67</td>\n",
       "      <td>41.3</td>\n",
       "      <td>tau</td>\n",
       "      <td>2020-01-09 14:47:15.129454</td>\n",
       "      <td>NaN</td>\n",
       "    </tr>\n",
       "    <tr>\n",
       "      <th>40</th>\n",
       "      <td>5e16cc95f699b190a4e7e8cd</td>\n",
       "      <td>8.2</td>\n",
       "      <td>192.168.3.80</td>\n",
       "      <td>74.0</td>\n",
       "      <td>please</td>\n",
       "      <td>2020-01-09 14:47:49.513005</td>\n",
       "      <td>NaN</td>\n",
       "    </tr>\n",
       "    <tr>\n",
       "      <th>41</th>\n",
       "      <td>5e16cca77f2d3610eeb36650</td>\n",
       "      <td>13.1</td>\n",
       "      <td>192.168.3.67</td>\n",
       "      <td>41.4</td>\n",
       "      <td>tau</td>\n",
       "      <td>2020-01-09 14:48:07.437645</td>\n",
       "      <td>NaN</td>\n",
       "    </tr>\n",
       "    <tr>\n",
       "      <th>42</th>\n",
       "      <td>5e16ccaf4f793003c5e5d954</td>\n",
       "      <td>2.8</td>\n",
       "      <td>192.168.3.219</td>\n",
       "      <td>52.1</td>\n",
       "      <td>Shawn</td>\n",
       "      <td>NaN</td>\n",
       "      <td>2020-01-09 14:48:15.474044</td>\n",
       "    </tr>\n",
       "  </tbody>\n",
       "</table>\n",
       "</div>"
      ],
      "text/plain": [
       "                         _id   cpu     ip_address   mem  \\\n",
       "0   5e16cb5977553b02ef6ed303   1.5   192.168.3.98  49.2   \n",
       "1   5e16cbd88adbc411cf9cbf11   7.6   192.168.3.99  71.1   \n",
       "2   5e16cbd88adbc411cf9cbf12   7.6   192.168.3.99  70.9   \n",
       "3   5e16cbd88adbc411cf9cbf13   9.3   192.168.3.99  70.9   \n",
       "4   5e16cbd88adbc411cf9cbf14   3.9   192.168.3.99  70.7   \n",
       "5   5e16cbd88adbc411cf9cbf15   2.0   192.168.3.99  70.7   \n",
       "6   5e16cbd88adbc411cf9cbf16   2.7   192.168.3.99  70.7   \n",
       "7   5e16cbd88adbc411cf9cbf17   1.5   192.168.3.99  70.6   \n",
       "8   5e16cbd88adbc411cf9cbf18   5.1   192.168.3.99  70.8   \n",
       "9   5e16cbd88adbc411cf9cbf19   3.5   192.168.3.99  70.4   \n",
       "10  5e16cbd88adbc411cf9cbf1a   1.6   192.168.3.99  70.4   \n",
       "11  5e16cbd88adbc411cf9cbf1b   2.0   192.168.3.99  70.4   \n",
       "12  5e16cbd88adbc411cf9cbf1c   5.1   192.168.3.99  70.7   \n",
       "13  5e16cbd88adbc411cf9cbf1d   2.3   192.168.3.99  70.7   \n",
       "14  5e16cbd88adbc411cf9cbf1e   2.3   192.168.3.99  70.7   \n",
       "15  5e16cbd88adbc411cf9cbf1f   3.1   192.168.3.99  70.7   \n",
       "16  5e16cbd88adbc411cf9cbf20   3.5   192.168.3.99  70.7   \n",
       "17  5e16cbd88adbc411cf9cbf21   4.6   192.168.3.99  70.5   \n",
       "18  5e16cbd88adbc411cf9cbf22   3.1   192.168.3.99  70.4   \n",
       "19  5e16cbd88adbc411cf9cbf23   3.1   192.168.3.99  70.4   \n",
       "20  5e16cbd88adbc411cf9cbf24   7.4   192.168.3.99  70.4   \n",
       "21  5e16cbd88adbc411cf9cbf25   2.7   192.168.3.99  70.4   \n",
       "22  5e16cbd88adbc411cf9cbf26   5.9   192.168.3.99  70.7   \n",
       "23  5e16cbd88adbc411cf9cbf27  13.4   192.168.3.99  71.0   \n",
       "24  5e16cc32096cdb5482ccfc38   5.9  192.168.3.113  66.5   \n",
       "25  5e16cc33096cdb5482ccfc39   7.9  192.168.3.113  66.6   \n",
       "26  5e16cc34096cdb5482ccfc3a  12.5  192.168.3.113  66.6   \n",
       "27  5e16cc35096cdb5482ccfc3b  10.8  192.168.3.113  66.6   \n",
       "28  5e16cc36096cdb5482ccfc3c  11.6  192.168.3.113  66.6   \n",
       "29  5e16cc37096cdb5482ccfc3d   6.3  192.168.3.113  66.6   \n",
       "30  5e16cc38096cdb5482ccfc3e   3.8  192.168.3.113  66.6   \n",
       "31  5e16cc39096cdb5482ccfc3f   5.9  192.168.3.113  66.5   \n",
       "32  5e16cc3a096cdb5482ccfc40   2.8  192.168.3.113  66.5   \n",
       "33  5e16cc3b096cdb5482ccfc41   4.1  192.168.3.113  66.5   \n",
       "34  5e16cc3c096cdb5482ccfc42   5.7  192.168.3.113  66.6   \n",
       "35  5e16cc3d096cdb5482ccfc43   8.3  192.168.3.113  66.6   \n",
       "36  5e16cc3e096cdb5482ccfc44   9.1  192.168.3.113  66.6   \n",
       "37  5e16cc3f096cdb5482ccfc45   9.7  192.168.3.113  66.6   \n",
       "38  5e16cc4ff699b190a4e7e8cb   NaN            NaN   NaN   \n",
       "39  5e16cc737f2d3610eeb3664e  16.9   192.168.3.67  41.3   \n",
       "40  5e16cc95f699b190a4e7e8cd   8.2   192.168.3.80  74.0   \n",
       "41  5e16cca77f2d3610eeb36650  13.1   192.168.3.67  41.4   \n",
       "42  5e16ccaf4f793003c5e5d954   2.8  192.168.3.219  52.1   \n",
       "\n",
       "                       name                   timestamp  \\\n",
       "0            Super mehhhrio  2020-01-09 14:42:33.229522   \n",
       "1                     Test1  2020-01-09 14:18:15.295646   \n",
       "2                     Test2  2020-01-09 14:18:16.300664   \n",
       "3                     Test3  2020-01-09 14:18:17.304143   \n",
       "4                     Test4  2020-01-09 14:18:18.307416   \n",
       "5                     Test5  2020-01-09 14:18:19.310941   \n",
       "6                     Test6  2020-01-09 14:18:20.314422   \n",
       "7                     Test7  2020-01-09 14:18:21.319134   \n",
       "8                     Test8  2020-01-09 14:18:22.325234   \n",
       "9                     Test9  2020-01-09 14:18:23.330959   \n",
       "10                   Test10  2020-01-09 14:18:24.335252   \n",
       "11                   Test11  2020-01-09 14:18:25.338337   \n",
       "12                   Test12  2020-01-09 14:18:26.342341   \n",
       "13                   Test13  2020-01-09 14:18:27.347255   \n",
       "14                   Test14  2020-01-09 14:18:28.351779   \n",
       "15                   Test15  2020-01-09 14:18:29.356000   \n",
       "16                   Test16  2020-01-09 14:18:30.359395   \n",
       "17                   Test17  2020-01-09 14:18:31.363243   \n",
       "18                   Test18  2020-01-09 14:18:32.367478   \n",
       "19                   Test19  2020-01-09 14:18:33.371884   \n",
       "20                   Test20  2020-01-09 14:18:34.375492   \n",
       "21                   Test21  2020-01-09 14:18:35.380365   \n",
       "22                   Test22  2020-01-09 14:18:36.494571   \n",
       "23                   Test23  2020-01-09 14:18:37.499148   \n",
       "24                      FBI  2020-01-09 14:46:10.266249   \n",
       "25                      FBI  2020-01-09 14:46:11.337966   \n",
       "26                      FBI  2020-01-09 14:46:12.354580   \n",
       "27                      FBI  2020-01-09 14:46:13.366880   \n",
       "28                      FBI  2020-01-09 14:46:14.380239   \n",
       "29                      FBI  2020-01-09 14:46:15.398480   \n",
       "30                      FBI  2020-01-09 14:46:16.425177   \n",
       "31                      FBI  2020-01-09 14:46:17.446865   \n",
       "32                      FBI  2020-01-09 14:46:18.470720   \n",
       "33                      FBI  2020-01-09 14:46:19.495973   \n",
       "34                      FBI  2020-01-09 14:46:20.517222   \n",
       "35                      FBI  2020-01-09 14:46:21.541301   \n",
       "36                      FBI  2020-01-09 14:46:22.571271   \n",
       "37                      FBI  2020-01-09 14:46:23.588774   \n",
       "38  okay, lets take a break                         NaN   \n",
       "39                      tau  2020-01-09 14:47:15.129454   \n",
       "40                   please  2020-01-09 14:47:49.513005   \n",
       "41                      tau  2020-01-09 14:48:07.437645   \n",
       "42                    Shawn                         NaN   \n",
       "\n",
       "                    timestramp  \n",
       "0                          NaN  \n",
       "1                          NaN  \n",
       "2                          NaN  \n",
       "3                          NaN  \n",
       "4                          NaN  \n",
       "5                          NaN  \n",
       "6                          NaN  \n",
       "7                          NaN  \n",
       "8                          NaN  \n",
       "9                          NaN  \n",
       "10                         NaN  \n",
       "11                         NaN  \n",
       "12                         NaN  \n",
       "13                         NaN  \n",
       "14                         NaN  \n",
       "15                         NaN  \n",
       "16                         NaN  \n",
       "17                         NaN  \n",
       "18                         NaN  \n",
       "19                         NaN  \n",
       "20                         NaN  \n",
       "21                         NaN  \n",
       "22                         NaN  \n",
       "23                         NaN  \n",
       "24                         NaN  \n",
       "25                         NaN  \n",
       "26                         NaN  \n",
       "27                         NaN  \n",
       "28                         NaN  \n",
       "29                         NaN  \n",
       "30                         NaN  \n",
       "31                         NaN  \n",
       "32                         NaN  \n",
       "33                         NaN  \n",
       "34                         NaN  \n",
       "35                         NaN  \n",
       "36                         NaN  \n",
       "37                         NaN  \n",
       "38                         NaN  \n",
       "39                         NaN  \n",
       "40                         NaN  \n",
       "41                         NaN  \n",
       "42  2020-01-09 14:48:15.474044  "
      ]
     },
     "execution_count": 111,
     "metadata": {},
     "output_type": "execute_result"
    }
   ],
   "source": [
    "df = pd.DataFrame(cpumem_collection.find())\n",
    "df"
   ]
  },
  {
   "cell_type": "code",
   "execution_count": 108,
   "metadata": {},
   "outputs": [
    {
     "data": {
      "text/plain": [
       "name\n",
       "FBI               14\n",
       "Super mehhhrio     1\n",
       "Test1              1\n",
       "Test10             1\n",
       "Test11             1\n",
       "Test12             1\n",
       "Test13             1\n",
       "Test14             1\n",
       "Test15             1\n",
       "Test16             1\n",
       "Test17             1\n",
       "Test18             1\n",
       "Test19             1\n",
       "Test2              1\n",
       "Test20             1\n",
       "Test21             1\n",
       "Test22             1\n",
       "Test23             1\n",
       "Test3              1\n",
       "Test4              1\n",
       "Test5              1\n",
       "Test6              1\n",
       "Test7              1\n",
       "Test8              1\n",
       "Test9              1\n",
       "break              1\n",
       "tau                1\n",
       "Name: name, dtype: int64"
      ]
     },
     "execution_count": 108,
     "metadata": {},
     "output_type": "execute_result"
    }
   ],
   "source": [
    "df.groupby(\"name\")['name'].count()"
   ]
  },
  {
   "cell_type": "markdown",
   "metadata": {},
   "source": [
    "# Snippet to connect and test your mongodb"
   ]
  },
  {
   "cell_type": "code",
   "execution_count": 117,
   "metadata": {},
   "outputs": [],
   "source": [
    "from pymongo import MongoClient"
   ]
  },
  {
   "cell_type": "code",
   "execution_count": 118,
   "metadata": {},
   "outputs": [],
   "source": [
    "client = MongoClient(\"localhost:27017\")"
   ]
  },
  {
   "cell_type": "code",
   "execution_count": 119,
   "metadata": {},
   "outputs": [],
   "source": [
    "db = client[\"mydb\"]"
   ]
  },
  {
   "cell_type": "code",
   "execution_count": 120,
   "metadata": {},
   "outputs": [],
   "source": [
    "# student_collection = db[\"students\"]\n",
    "person_collection = db[\"persons\"]"
   ]
  },
  {
   "cell_type": "code",
   "execution_count": 124,
   "metadata": {},
   "outputs": [],
   "source": [
    "f = open(\"C:/Users/balap/Documents/Persons.json\")\n",
    "import json\n",
    "docs = (f.read())\n",
    "# person_collection.insert_many(docs)\n",
    "f.close()"
   ]
  },
  {
   "cell_type": "code",
   "execution_count": 127,
   "metadata": {},
   "outputs": [],
   "source": [
    "# d = eval(docs)"
   ]
  },
  {
   "cell_type": "code",
   "execution_count": 12,
   "metadata": {},
   "outputs": [
    {
     "data": {
      "text/plain": [
       "<pymongo.results.InsertOneResult at 0x1c0ade532c8>"
      ]
     },
     "execution_count": 12,
     "metadata": {},
     "output_type": "execute_result"
    }
   ],
   "source": [
    "student_collection.insert_one({\n",
    "    \"name\": \"bala\",\n",
    "    \"contact\": \"90909090\"\n",
    "})"
   ]
  },
  {
   "cell_type": "code",
   "execution_count": 13,
   "metadata": {},
   "outputs": [
    {
     "data": {
      "text/plain": [
       "[{'_id': ObjectId('5e16b2f33b9b671fe0bd45e5'),\n",
       "  'name': 'bala',\n",
       "  'contact': '90909090'}]"
      ]
     },
     "execution_count": 13,
     "metadata": {},
     "output_type": "execute_result"
    }
   ],
   "source": [
    "list(student_collection.find())"
   ]
  },
  {
   "cell_type": "markdown",
   "metadata": {},
   "source": [
    "## MongoDB Workshop"
   ]
  },
  {
   "cell_type": "code",
   "execution_count": 116,
   "metadata": {},
   "outputs": [],
   "source": [
    "# Refer to workshop notebook"
   ]
  },
  {
   "cell_type": "markdown",
   "metadata": {},
   "source": [
    "## Find all files in a folder - using `.glob()` from `pathlib.Path`"
   ]
  },
  {
   "cell_type": "code",
   "execution_count": 113,
   "metadata": {},
   "outputs": [],
   "source": [
    "from pathlib import Path\n",
    "folder = r\"C:\\Users\\balap\\Desktop\\teaching\\pydot27\\Workshops\\Workshop03\\pyvideo_data-master\\pyvideo_data-master\\data-school\"\n",
    "folder = Path(folder)"
   ]
  },
  {
   "cell_type": "code",
   "execution_count": 114,
   "metadata": {},
   "outputs": [
    {
     "data": {
      "text/plain": [
       "[WindowsPath('C:/Users/balap/Desktop/teaching/pydot27/Workshops/Workshop03/pyvideo_data-master/pyvideo_data-master/data-school/category.json')]"
      ]
     },
     "execution_count": 114,
     "metadata": {},
     "output_type": "execute_result"
    }
   ],
   "source": [
    "# search for patten in a current directory\n",
    "# pattern : *.json\n",
    "list(folder.glob(\"*.json\"))"
   ]
  },
  {
   "cell_type": "code",
   "execution_count": 115,
   "metadata": {},
   "outputs": [
    {
     "data": {
      "text/plain": [
       "40"
      ]
     },
     "execution_count": 115,
     "metadata": {},
     "output_type": "execute_result"
    }
   ],
   "source": [
    "# search for patten in a current directory + sub-directories\n",
    "# pattern : **/*.json\n",
    "\n",
    "len(list(folder.glob(\"**/*.json\")))"
   ]
  },
  {
   "cell_type": "code",
   "execution_count": null,
   "metadata": {},
   "outputs": [],
   "source": []
  }
 ],
 "metadata": {
  "kernelspec": {
   "display_name": "Python 3",
   "language": "python",
   "name": "python3"
  },
  "language_info": {
   "codemirror_mode": {
    "name": "ipython",
    "version": 3
   },
   "file_extension": ".py",
   "mimetype": "text/x-python",
   "name": "python",
   "nbconvert_exporter": "python",
   "pygments_lexer": "ipython3",
   "version": "3.7.3"
  }
 },
 "nbformat": 4,
 "nbformat_minor": 2
}
